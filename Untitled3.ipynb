{
  "nbformat": 4,
  "nbformat_minor": 0,
  "metadata": {
    "colab": {
      "name": "Untitled3.ipynb",
      "provenance": [],
      "authorship_tag": "ABX9TyMFDCFGvneJ6yZ/G/2YCkf3",
      "include_colab_link": true
    },
    "kernelspec": {
      "name": "python3",
      "display_name": "Python 3"
    },
    "language_info": {
      "name": "python"
    }
  },
  "cells": [
    {
      "cell_type": "markdown",
      "metadata": {
        "id": "view-in-github",
        "colab_type": "text"
      },
      "source": [
        "<a href=\"https://colab.research.google.com/github/Abhianv47/Python-Codes/blob/master/Untitled3.ipynb\" target=\"_parent\"><img src=\"https://colab.research.google.com/assets/colab-badge.svg\" alt=\"Open In Colab\"/></a>"
      ]
    },
    {
      "cell_type": "code",
      "metadata": {
        "colab": {
          "base_uri": "https://localhost:8080/"
        },
        "id": "9r0RclusKxWU",
        "outputId": "37d91bbb-261f-4d89-f11b-0f576ed9c441"
      },
      "source": [
        "fruits=[\"Apple\",\"Banana\",\"Orange\"]\n",
        "print(type(fruits))\n",
        "print(fruits[0])\n",
        "print(len(fruits))"
      ],
      "execution_count": 4,
      "outputs": [
        {
          "output_type": "stream",
          "text": [
            "<class 'list'>\n",
            "Apple\n",
            "3\n"
          ],
          "name": "stdout"
        }
      ]
    },
    {
      "cell_type": "code",
      "metadata": {
        "id": "a0-m1V04L8Ye"
      },
      "source": [
        ""
      ],
      "execution_count": null,
      "outputs": []
    },
    {
      "cell_type": "markdown",
      "metadata": {
        "id": "42sHT_11Nry9"
      },
      "source": [
        "# Range of Index"
      ]
    },
    {
      "cell_type": "code",
      "metadata": {
        "colab": {
          "base_uri": "https://localhost:8080/"
        },
        "id": "ij-S542SN0Ao",
        "outputId": "535de9d2-822b-411b-9080-884bd7d7e95b"
      },
      "source": [
        "fruits=[\"Apple\",\"Banana\",\"Orange\"]\n",
        "print(fruits[0:20])\n",
        "if \"Banana\" in fruits:\n",
        "  print(\"YES\")"
      ],
      "execution_count": 15,
      "outputs": [
        {
          "output_type": "stream",
          "text": [
            "['Apple', 'Banana', 'Orange']\n",
            "YES\n"
          ],
          "name": "stdout"
        }
      ]
    },
    {
      "cell_type": "code",
      "metadata": {
        "colab": {
          "base_uri": "https://localhost:8080/"
        },
        "id": "lHXCs5iUOCIy",
        "outputId": "c8fe84f5-3ab5-4ee8-d9ab-fdcd15450a84"
      },
      "source": [
        "fruits=[\"Apple\",\"Banana\",\"Orange\",\"Mango\",\"Guava\"]\n",
        "print(fruits)\n",
        "fruits[2]=\"Pineapple\"\n",
        "print(fruits)\n",
        "newfruits=\"watermalen\",\"kiwi\",\"peach\"\n",
        "fruits[1:3]=newfruits\n",
        "print(fruits)"
      ],
      "execution_count": 19,
      "outputs": [
        {
          "output_type": "stream",
          "text": [
            "['Apple', 'Banana', 'Orange', 'Mango', 'Guava']\n",
            "['Apple', 'Banana', 'Pineapple', 'Mango', 'Guava']\n",
            "['Apple', 'watermalen', 'kiwi', 'peach', 'Mango', 'Guava']\n"
          ],
          "name": "stdout"
        }
      ]
    },
    {
      "cell_type": "code",
      "metadata": {
        "colab": {
          "base_uri": "https://localhost:8080/"
        },
        "id": "V38-jlkiSte-",
        "outputId": "8859a4d4-1193-43e3-eb05-d0597d29c6e1"
      },
      "source": [
        "fruits=[\"Apple\",\"Banana\",\"Orange\",\"Mango\",\"Guava\"]\n",
        "fruits.insert(2,\"kiwi\")\n",
        "print(fruits)\n",
        "fruits.append(\"Pineapple\")\n",
        "print(fruits)\n",
        "newfruits=[\"watermalen\",\"plum\",\"peach\"]\n",
        "fruits.extend(newfruits)\n",
        "print(fruits)\n",
        "fruits.remove(\"Orange\")\n",
        "print(fruits)\n",
        "fruits.pop(2)\n",
        "print(fruits)\n",
        "fruits.pop()\n",
        "print(fruits)\n",
        "del fruits[0]\n",
        "print(fruits)\n"
      ],
      "execution_count": 30,
      "outputs": [
        {
          "output_type": "stream",
          "text": [
            "['Apple', 'Banana', 'kiwi', 'Orange', 'Mango', 'Guava']\n",
            "['Apple', 'Banana', 'kiwi', 'Orange', 'Mango', 'Guava', 'Pineapple']\n",
            "['Apple', 'Banana', 'kiwi', 'Orange', 'Mango', 'Guava', 'Pineapple', 'watermalen', 'plum', 'peach']\n",
            "['Apple', 'Banana', 'kiwi', 'Mango', 'Guava', 'Pineapple', 'watermalen', 'plum', 'peach']\n",
            "['Apple', 'Banana', 'Mango', 'Guava', 'Pineapple', 'watermalen', 'plum', 'peach']\n",
            "['Apple', 'Banana', 'Mango', 'Guava', 'Pineapple', 'watermalen', 'plum']\n",
            "['Banana', 'Mango', 'Guava', 'Pineapple', 'watermalen', 'plum']\n"
          ],
          "name": "stdout"
        }
      ]
    },
    {
      "cell_type": "code",
      "metadata": {
        "colab": {
          "base_uri": "https://localhost:8080/"
        },
        "id": "OipD6p2XVOT5",
        "outputId": "352e6bba-aeae-4afd-cebb-9967f2aa6f27"
      },
      "source": [
        "fruits=[\"Apple\",\"Banana\",\"Orange\",\"Mango\",\"Guava\"]\n",
        "print(fruits)"
      ],
      "execution_count": 33,
      "outputs": [
        {
          "output_type": "stream",
          "text": [
            "['Apple', 'Banana', 'Orange', 'Mango', 'Guava']\n"
          ],
          "name": "stdout"
        }
      ]
    },
    {
      "cell_type": "code",
      "metadata": {
        "colab": {
          "base_uri": "https://localhost:8080/",
          "height": 202
        },
        "id": "-GCfUnS3b67M",
        "outputId": "eee0a1cd-4070-4034-8302-4a3a822402d4"
      },
      "source": [
        "fruits=[\"Apple\",\"Banana\",\"Orange\",\"Mango\",\"Guava\"]\n",
        "del fruits\n",
        "print(fruits)"
      ],
      "execution_count": 34,
      "outputs": [
        {
          "output_type": "error",
          "ename": "NameError",
          "evalue": "ignored",
          "traceback": [
            "\u001b[0;31m---------------------------------------------------------------------------\u001b[0m",
            "\u001b[0;31mNameError\u001b[0m                                 Traceback (most recent call last)",
            "\u001b[0;32m<ipython-input-34-8ff30b2fa9c2>\u001b[0m in \u001b[0;36m<module>\u001b[0;34m()\u001b[0m\n\u001b[1;32m      1\u001b[0m \u001b[0mfruits\u001b[0m\u001b[0;34m=\u001b[0m\u001b[0;34m[\u001b[0m\u001b[0;34m\"Apple\"\u001b[0m\u001b[0;34m,\u001b[0m\u001b[0;34m\"Banana\"\u001b[0m\u001b[0;34m,\u001b[0m\u001b[0;34m\"Orange\"\u001b[0m\u001b[0;34m,\u001b[0m\u001b[0;34m\"Mango\"\u001b[0m\u001b[0;34m,\u001b[0m\u001b[0;34m\"Guava\"\u001b[0m\u001b[0;34m]\u001b[0m\u001b[0;34m\u001b[0m\u001b[0;34m\u001b[0m\u001b[0m\n\u001b[1;32m      2\u001b[0m \u001b[0;32mdel\u001b[0m \u001b[0mfruits\u001b[0m\u001b[0;34m\u001b[0m\u001b[0;34m\u001b[0m\u001b[0m\n\u001b[0;32m----> 3\u001b[0;31m \u001b[0mprint\u001b[0m\u001b[0;34m(\u001b[0m\u001b[0mfruits\u001b[0m\u001b[0;34m)\u001b[0m\u001b[0;34m\u001b[0m\u001b[0;34m\u001b[0m\u001b[0m\n\u001b[0m",
            "\u001b[0;31mNameError\u001b[0m: name 'fruits' is not defined"
          ]
        }
      ]
    },
    {
      "cell_type": "code",
      "metadata": {
        "colab": {
          "base_uri": "https://localhost:8080/"
        },
        "id": "ntZQb6xhcIzu",
        "outputId": "7a86166a-3f5b-405b-dd21-1b698201b99f"
      },
      "source": [
        "fruits=[\"Apple\",\"Banana\",\"Orange\",\"Mango\",\"Guava\"]\n",
        "print(fruits)\n",
        "fruits.clear()\n",
        "print(fruits)"
      ],
      "execution_count": 35,
      "outputs": [
        {
          "output_type": "stream",
          "text": [
            "['Apple', 'Banana', 'Orange', 'Mango', 'Guava']\n",
            "[]\n"
          ],
          "name": "stdout"
        }
      ]
    },
    {
      "cell_type": "code",
      "metadata": {
        "id": "q1_aQEhecoVn"
      },
      "source": [
        ""
      ],
      "execution_count": null,
      "outputs": []
    },
    {
      "cell_type": "markdown",
      "metadata": {
        "id": "MFy71RmhhAyS"
      },
      "source": [
        "## Tuples"
      ]
    },
    {
      "cell_type": "code",
      "metadata": {
        "colab": {
          "base_uri": "https://localhost:8080/"
        },
        "id": "TqnKFfK8hEwC",
        "outputId": "afee69a5-027c-4a5b-9a41-76afa3176116"
      },
      "source": [
        "animals=(\"Dog\",\"Cat\",\"Elephant\",\"Lion\")\n",
        "print(type(animals))\n",
        "report=(\"Abhinav\",24,3,6,60.36)\n",
        "print(type(report))\n",
        "print(animals)\n",
        "print(animals[1])"
      ],
      "execution_count": 41,
      "outputs": [
        {
          "output_type": "stream",
          "text": [
            "<class 'tuple'>\n",
            "<class 'tuple'>\n",
            "('Dog', 'Cat', 'Elephant', 'Lion')\n",
            "Cat\n"
          ],
          "name": "stdout"
        }
      ]
    },
    {
      "cell_type": "code",
      "metadata": {
        "colab": {
          "base_uri": "https://localhost:8080/"
        },
        "id": "sEjA0wAVhTwp",
        "outputId": "256bd116-f92b-45c5-9789-714218504488"
      },
      "source": [
        "animals=(\"Dog\",\"Cat\",\"Elephant\",\"Lion\")\n",
        "print(animals[0])\n",
        "print(animals[0:3])\n",
        "print(animals[-2])\n",
        "print(animals[-5:-1])"
      ],
      "execution_count": 45,
      "outputs": [
        {
          "output_type": "stream",
          "text": [
            "Dog\n",
            "('Dog', 'Cat', 'Elephant')\n",
            "Elephant\n",
            "('Dog', 'Cat', 'Elephant')\n"
          ],
          "name": "stdout"
        }
      ]
    },
    {
      "cell_type": "code",
      "metadata": {
        "colab": {
          "base_uri": "https://localhost:8080/"
        },
        "id": "Q5iXXV-MtyHR",
        "outputId": "736e71e2-144e-4cc3-d94e-9f637185019f"
      },
      "source": [
        "animals=(\"Dog\",\"Cat\",\"Elephant\",\"Lion\",\"Dog\",\"Dog\",\"Dog\")\n",
        "print(animals.count(\"Dog\"))"
      ],
      "execution_count": 47,
      "outputs": [
        {
          "output_type": "stream",
          "text": [
            "4\n"
          ],
          "name": "stdout"
        }
      ]
    },
    {
      "cell_type": "code",
      "metadata": {
        "colab": {
          "base_uri": "https://localhost:8080/"
        },
        "id": "HND24XxDunls",
        "outputId": "1ef7a975-12ef-4ef3-f9fb-b687475129fa"
      },
      "source": [
        "animals=(\"Dog\",\"Cat\",\"Elephant\",\"Lion\")\n",
        "print(animals.index(\"Cat\"))"
      ],
      "execution_count": 48,
      "outputs": [
        {
          "output_type": "stream",
          "text": [
            "1\n"
          ],
          "name": "stdout"
        }
      ]
    },
    {
      "cell_type": "code",
      "metadata": {
        "colab": {
          "base_uri": "https://localhost:8080/"
        },
        "id": "BTaT0vwHvAQw",
        "outputId": "d6968616-5827-4b01-98cf-5f5d5221d933"
      },
      "source": [
        "animals=(\"Dog\",\"Cat\",\"Elephant\",\"Lion\")\n",
        "print(len(animals))"
      ],
      "execution_count": 49,
      "outputs": [
        {
          "output_type": "stream",
          "text": [
            "4\n"
          ],
          "name": "stdout"
        }
      ]
    },
    {
      "cell_type": "markdown",
      "metadata": {
        "id": "n_Ea9YTsw1wl"
      },
      "source": [
        "# Set"
      ]
    },
    {
      "cell_type": "code",
      "metadata": {
        "colab": {
          "base_uri": "https://localhost:8080/"
        },
        "id": "DTY65-URvYzc",
        "outputId": "13febf6b-2081-4e72-93fd-8b89280cc5c8"
      },
      "source": [
        "animals={\"Dog\",\"Cat\",\"Elephant\",\"tiger\",\"Lion\",\"tiger\"}\n",
        "print(animals)\n",
        "print(type(animals))\n",
        "print(len(animals))\n"
      ],
      "execution_count": 64,
      "outputs": [
        {
          "output_type": "stream",
          "text": [
            "{'Cat', 'Lion', 'Dog', 'Elephant', 'tiger'}\n",
            "<class 'set'>\n",
            "5\n"
          ],
          "name": "stdout"
        }
      ]
    },
    {
      "cell_type": "code",
      "metadata": {
        "colab": {
          "base_uri": "https://localhost:8080/"
        },
        "id": "HmU6f1hDxQBu",
        "outputId": "6bcb1794-18da-4ec1-9a0d-5adeaa4ef026"
      },
      "source": [
        "animals=(\"Dog\",\"Cat\",\"Elephant\",\"Lion\")\n",
        "for x in animals:\n",
        "  print(x)\n",
        "  print(\"God\" in animals)\n",
        "  print(\"Dog\" in animals)"
      ],
      "execution_count": 69,
      "outputs": [
        {
          "output_type": "stream",
          "text": [
            "Dog\n",
            "False\n",
            "True\n",
            "Cat\n",
            "False\n",
            "True\n",
            "Elephant\n",
            "False\n",
            "True\n",
            "Lion\n",
            "False\n",
            "True\n"
          ],
          "name": "stdout"
        }
      ]
    },
    {
      "cell_type": "code",
      "metadata": {
        "colab": {
          "base_uri": "https://localhost:8080/"
        },
        "id": "NWXTfoKn3VRu",
        "outputId": "afe3607b-d073-484f-b365-bde2c8fff8e3"
      },
      "source": [
        "animals={\"Dog\",\"Cat\",\"Elephant\",\"Lion\"}\n",
        "print(animals)\n",
        "animals.add(\"Zebra\")\n",
        "print(animals)\n",
        "newanimals={\"Pig\",\"Puppy\"}\n",
        "animals.update(newanimals)\n",
        "print(animals)"
      ],
      "execution_count": 74,
      "outputs": [
        {
          "output_type": "stream",
          "text": [
            "{'Lion', 'Elephant', 'Dog', 'Cat'}\n",
            "{'Cat', 'Lion', 'Dog', 'Elephant', 'Zebra'}\n",
            "{'Cat', 'Lion', 'Puppy', 'Pig', 'Dog', 'Elephant', 'Zebra'}\n"
          ],
          "name": "stdout"
        }
      ]
    },
    {
      "cell_type": "code",
      "metadata": {
        "colab": {
          "base_uri": "https://localhost:8080/"
        },
        "id": "syck6IzU4SsL",
        "outputId": "85fb00ab-bc27-439c-bc09-cf0ffc9fdbbf"
      },
      "source": [
        "animals={\"Dog\",\"Cat\",\"Elephant\",\"Lion\"}\n",
        "animals.remove(\"Cat\")\n",
        "print(animals)"
      ],
      "execution_count": 76,
      "outputs": [
        {
          "output_type": "stream",
          "text": [
            "{'Lion', 'Elephant', 'Dog'}\n"
          ],
          "name": "stdout"
        }
      ]
    },
    {
      "cell_type": "code",
      "metadata": {
        "colab": {
          "base_uri": "https://localhost:8080/"
        },
        "id": "7469SBXT61rb",
        "outputId": "d861de39-020a-4862-c097-e505764214a1"
      },
      "source": [
        "animals={\"Dog\",\"Cat\",\"Elephant\",\"Lion\"}\n",
        "animals.discard(\"Dog\")\n",
        "print(animals)"
      ],
      "execution_count": 77,
      "outputs": [
        {
          "output_type": "stream",
          "text": [
            "{'Lion', 'Elephant', 'Cat'}\n"
          ],
          "name": "stdout"
        }
      ]
    },
    {
      "cell_type": "code",
      "metadata": {
        "colab": {
          "base_uri": "https://localhost:8080/",
          "height": 237
        },
        "id": "igRgVT3R7op2",
        "outputId": "04135d43-bf5e-448a-bb43-26bb6f37bc5b"
      },
      "source": [
        "animals={\"Dog\",\"Cat\",\"Elephant\",\"Lion\"}\n",
        "animals.remove(\"Tiger\")   #remove will show error if element not available in set at that time.\n",
        "print(animals)\n",
        "animals.discard(\"Tiger\")\n",
        "print(animals)"
      ],
      "execution_count": 79,
      "outputs": [
        {
          "output_type": "error",
          "ename": "KeyError",
          "evalue": "ignored",
          "traceback": [
            "\u001b[0;31m---------------------------------------------------------------------------\u001b[0m",
            "\u001b[0;31mKeyError\u001b[0m                                  Traceback (most recent call last)",
            "\u001b[0;32m<ipython-input-79-858d86060ad1>\u001b[0m in \u001b[0;36m<module>\u001b[0;34m()\u001b[0m\n\u001b[1;32m      1\u001b[0m \u001b[0manimals\u001b[0m\u001b[0;34m=\u001b[0m\u001b[0;34m{\u001b[0m\u001b[0;34m\"Dog\"\u001b[0m\u001b[0;34m,\u001b[0m\u001b[0;34m\"Cat\"\u001b[0m\u001b[0;34m,\u001b[0m\u001b[0;34m\"Elephant\"\u001b[0m\u001b[0;34m,\u001b[0m\u001b[0;34m\"Lion\"\u001b[0m\u001b[0;34m}\u001b[0m\u001b[0;34m\u001b[0m\u001b[0;34m\u001b[0m\u001b[0m\n\u001b[0;32m----> 2\u001b[0;31m \u001b[0manimals\u001b[0m\u001b[0;34m.\u001b[0m\u001b[0mremove\u001b[0m\u001b[0;34m(\u001b[0m\u001b[0;34m\"Tiger\"\u001b[0m\u001b[0;34m)\u001b[0m   \u001b[0;31m#remove will show error if element not available in set at that time.\u001b[0m\u001b[0;34m\u001b[0m\u001b[0;34m\u001b[0m\u001b[0m\n\u001b[0m\u001b[1;32m      3\u001b[0m \u001b[0mprint\u001b[0m\u001b[0;34m(\u001b[0m\u001b[0manimals\u001b[0m\u001b[0;34m)\u001b[0m\u001b[0;34m\u001b[0m\u001b[0;34m\u001b[0m\u001b[0m\n\u001b[1;32m      4\u001b[0m \u001b[0manimals\u001b[0m\u001b[0;34m.\u001b[0m\u001b[0mdiscard\u001b[0m\u001b[0;34m(\u001b[0m\u001b[0;34m\"Tiger\"\u001b[0m\u001b[0;34m)\u001b[0m\u001b[0;34m\u001b[0m\u001b[0;34m\u001b[0m\u001b[0m\n\u001b[1;32m      5\u001b[0m \u001b[0mprint\u001b[0m\u001b[0;34m(\u001b[0m\u001b[0manimals\u001b[0m\u001b[0;34m)\u001b[0m\u001b[0;34m\u001b[0m\u001b[0;34m\u001b[0m\u001b[0m\n",
            "\u001b[0;31mKeyError\u001b[0m: 'Tiger'"
          ]
        }
      ]
    },
    {
      "cell_type": "code",
      "metadata": {
        "colab": {
          "base_uri": "https://localhost:8080/"
        },
        "id": "gxP6J1I870Nu",
        "outputId": "c39b98f6-b470-48d1-a282-5e7eb96b68e4"
      },
      "source": [
        "animals={\"Dog\",\"Cat\",\"Elephant\",\"Lion\"}\n",
        "#animals.remove(\"Tiger\")   #remove will show error if element not available in set at that time.\n",
        "animals.discard(\"Tiger\")     # discard will not show error when elements is not available in set\n",
        "print(animals)"
      ],
      "execution_count": 82,
      "outputs": [
        {
          "output_type": "stream",
          "text": [
            "{'Lion', 'Elephant', 'Dog', 'Cat'}\n"
          ],
          "name": "stdout"
        }
      ]
    },
    {
      "cell_type": "code",
      "metadata": {
        "colab": {
          "base_uri": "https://localhost:8080/",
          "height": 219
        },
        "id": "OUId9ZX58IdE",
        "outputId": "4ff1c230-0dc7-4452-e2c5-f4aa35308603"
      },
      "source": [
        "animals={\"Dog\",\"Cat\",\"Elephant\",\"Lion\"}\n",
        "print(animals)          #it will show error because using del keyword set has been deleted\n",
        "del animals\n",
        "print(animals)"
      ],
      "execution_count": 85,
      "outputs": [
        {
          "output_type": "stream",
          "text": [
            "{'Lion', 'Elephant', 'Dog', 'Cat'}\n"
          ],
          "name": "stdout"
        },
        {
          "output_type": "error",
          "ename": "NameError",
          "evalue": "ignored",
          "traceback": [
            "\u001b[0;31m---------------------------------------------------------------------------\u001b[0m",
            "\u001b[0;31mNameError\u001b[0m                                 Traceback (most recent call last)",
            "\u001b[0;32m<ipython-input-85-29e954c7fea8>\u001b[0m in \u001b[0;36m<module>\u001b[0;34m()\u001b[0m\n\u001b[1;32m      2\u001b[0m \u001b[0mprint\u001b[0m\u001b[0;34m(\u001b[0m\u001b[0manimals\u001b[0m\u001b[0;34m)\u001b[0m          \u001b[0;31m#it will show error because using del keyword set has been deleted\u001b[0m\u001b[0;34m\u001b[0m\u001b[0;34m\u001b[0m\u001b[0m\n\u001b[1;32m      3\u001b[0m \u001b[0;32mdel\u001b[0m \u001b[0manimals\u001b[0m\u001b[0;34m\u001b[0m\u001b[0;34m\u001b[0m\u001b[0m\n\u001b[0;32m----> 4\u001b[0;31m \u001b[0mprint\u001b[0m\u001b[0;34m(\u001b[0m\u001b[0manimals\u001b[0m\u001b[0;34m)\u001b[0m\u001b[0;34m\u001b[0m\u001b[0;34m\u001b[0m\u001b[0m\n\u001b[0m",
            "\u001b[0;31mNameError\u001b[0m: name 'animals' is not defined"
          ]
        }
      ]
    },
    {
      "cell_type": "code",
      "metadata": {
        "colab": {
          "base_uri": "https://localhost:8080/"
        },
        "id": "8k_tTnbX9ROn",
        "outputId": "3adb49f2-214e-40f8-d8e4-cd2919538c63"
      },
      "source": [
        "animals={\"Dog\",\"Cat\",\"Elephant\",\"Lion\"}\n",
        "animals.pop()\n",
        "print(animals)"
      ],
      "execution_count": 87,
      "outputs": [
        {
          "output_type": "stream",
          "text": [
            "{'Elephant', 'Dog', 'Cat'}\n"
          ],
          "name": "stdout"
        }
      ]
    },
    {
      "cell_type": "code",
      "metadata": {
        "colab": {
          "base_uri": "https://localhost:8080/"
        },
        "id": "gu8kBZDv93mM",
        "outputId": "435c4fa1-6a61-415c-b0a5-eda62e3ba34e"
      },
      "source": [
        "animals={\"Dog\",\"Cat\",\"Elephant\",\"Lion\"}\n",
        "animals.clear()\n",
        "print(animals)"
      ],
      "execution_count": 90,
      "outputs": [
        {
          "output_type": "stream",
          "text": [
            "set()\n"
          ],
          "name": "stdout"
        }
      ]
    },
    {
      "cell_type": "markdown",
      "metadata": {
        "id": "EmAkNaozAdM9"
      },
      "source": [
        "# Dictionaryt"
      ]
    },
    {
      "cell_type": "code",
      "metadata": {
        "colab": {
          "base_uri": "https://localhost:8080/"
        },
        "id": "Ol2tQPod-Ffu",
        "outputId": "a992c03a-1e4a-4891-b9e2-d5b20966964f"
      },
      "source": [
        "Student = {\"Name\":\"Abhinav\",\n",
        "           \"Rollno\":1714310006,\n",
        "           \"Course\":\"B.Tech\"}\n",
        "print(Student)\n",
        "print(type(Student))\n",
        "print(Student[\"Name\"])\n",
        "Student[\"Rollno\"]=11\n",
        "print(Student)"
      ],
      "execution_count": 99,
      "outputs": [
        {
          "output_type": "stream",
          "text": [
            "{'Name': 'Abhinav', 'Rollno': 1714310006, 'Course': 'B.Tech'}\n",
            "<class 'dict'>\n",
            "Abhinav\n",
            "{'Name': 'Abhinav', 'Rollno': 11, 'Course': 'B.Tech'}\n"
          ],
          "name": "stdout"
        }
      ]
    },
    {
      "cell_type": "code",
      "metadata": {
        "colab": {
          "base_uri": "https://localhost:8080/"
        },
        "id": "_-Z8lX-1BXow",
        "outputId": "e6bab12a-3487-4f55-f558-0d7b785c5565"
      },
      "source": [
        "Student = {\"Name\":\"Abhinav\",\n",
        "           \"Rollno\":1714310006,     # duplicate value will not count in the length\n",
        "           \"Rollno\":565656,         #duplicate value will not be accept so in duplicate value latest va;ue will be count\n",
        "           \"Rollno\":1234567889,\n",
        "           \"Course\":\"B.Tech\"}\n",
        "print(Student)\n",
        "print(len(Student))"
      ],
      "execution_count": 103,
      "outputs": [
        {
          "output_type": "stream",
          "text": [
            "{'Name': 'Abhinav', 'Rollno': 1234567889, 'Course': 'B.Tech'}\n",
            "3\n"
          ],
          "name": "stdout"
        }
      ]
    },
    {
      "cell_type": "code",
      "metadata": {
        "colab": {
          "base_uri": "https://localhost:8080/"
        },
        "id": "DQbbgf7qEA5H",
        "outputId": "d18cc85f-8da7-48a8-a39e-554f429509a1"
      },
      "source": [
        "Student = {\"Name\":\"Abhinav\",\n",
        "           \"Rollno\":1714310006,\n",
        "           \"Course\":\"B.Tech\"}\n",
        "x=Student.get(\"Name\")       #using get() keyword we can access the value of any key\n",
        "print(x)\n",
        "x=Student.keys()\n",
        "print(x)"
      ],
      "execution_count": 106,
      "outputs": [
        {
          "output_type": "stream",
          "text": [
            "Abhinav\n",
            "dict_keys(['Name', 'Rollno', 'Course'])\n"
          ],
          "name": "stdout"
        }
      ]
    },
    {
      "cell_type": "code",
      "metadata": {
        "colab": {
          "base_uri": "https://localhost:8080/"
        },
        "id": "X0zho57wXmFp",
        "outputId": "b5bb6534-6c1b-416c-b612-ad185cb01f2c"
      },
      "source": [
        " Student = {\"Name\":\"Abhinav\",\n",
        "           \"Rollno\":1714310006,\n",
        "           \"Course\":\"B.Tech\"}\n",
        "Student[\"Age\"]=25\n",
        "print(Student)\n",
        "x=Student.keys()\n",
        "print(x)\n"
      ],
      "execution_count": 108,
      "outputs": [
        {
          "output_type": "stream",
          "text": [
            "{'Name': 'Abhinav', 'Rollno': 1714310006, 'Course': 'B.Tech', 'Age': 25}\n",
            "dict_keys(['Name', 'Rollno', 'Course', 'Age'])\n"
          ],
          "name": "stdout"
        }
      ]
    },
    {
      "cell_type": "code",
      "metadata": {
        "colab": {
          "base_uri": "https://localhost:8080/"
        },
        "id": "44rHBctTZHwd",
        "outputId": "541708b8-1bc6-4b7a-8721-777c12e258dd"
      },
      "source": [
        " Student = {\"Name\":\"Abhinav\",\n",
        "           \"Rollno\":1714310006,\n",
        "           \"Course\":\"B.Tech\"}\n",
        "Student[\"Age\"]=25\n",
        "x=Student.values()\n",
        "print(x)"
      ],
      "execution_count": 110,
      "outputs": [
        {
          "output_type": "stream",
          "text": [
            "dict_values(['Abhinav', 1714310006, 'B.Tech', 25])\n"
          ],
          "name": "stdout"
        }
      ]
    },
    {
      "cell_type": "code",
      "metadata": {
        "colab": {
          "base_uri": "https://localhost:8080/"
        },
        "id": "5IDPkdANZjDl",
        "outputId": "1d1de94e-c52a-4ce9-b95e-96ae9390a9f0"
      },
      "source": [
        " Student = {\"Name\":\"Abhinav\",\n",
        "           \"Rollno\":1714310006,\n",
        "           \"Course\":\"B.Tech\"}\n",
        "Student[\"Age\"]=25\n",
        "x=Student.items()\n",
        "print(x)"
      ],
      "execution_count": 112,
      "outputs": [
        {
          "output_type": "stream",
          "text": [
            "dict_items([('Name', 'Abhinav'), ('Rollno', 1714310006), ('Course', 'B.Tech'), ('Age', 25)])\n"
          ],
          "name": "stdout"
        }
      ]
    },
    {
      "cell_type": "code",
      "metadata": {
        "colab": {
          "base_uri": "https://localhost:8080/"
        },
        "id": "TirqGSJqaK6z",
        "outputId": "58d5fb29-7de8-4f09-b5a4-b6c1dd590fcb"
      },
      "source": [
        " Student = {\"Name\":\"Abhinav\",\n",
        "           \"Rollno\":1714310006,\n",
        "           \"Course\":\"B.Tech\"}\n",
        "Student[\"Age\"]=25\n",
        "print(Student)\n",
        "Student[\"Name\"]=\"Akash\"         #update dictionary by passing key of dictionafry\n",
        "print(Student)"
      ],
      "execution_count": 114,
      "outputs": [
        {
          "output_type": "stream",
          "text": [
            "{'Name': 'Abhinav', 'Rollno': 1714310006, 'Course': 'B.Tech', 'Age': 25}\n",
            "{'Name': 'Akash', 'Rollno': 1714310006, 'Course': 'B.Tech', 'Age': 25}\n"
          ],
          "name": "stdout"
        }
      ]
    },
    {
      "cell_type": "code",
      "metadata": {
        "colab": {
          "base_uri": "https://localhost:8080/"
        },
        "id": "wnmN-P3tgWQk",
        "outputId": "4a4fd4f0-1f0c-47b1-8299-cf08f21ea7d2"
      },
      "source": [
        " Student = {\"Name\":\"Abhinav\",\n",
        "           \"Rollno\":1714310006,\n",
        "           \"Course\":\"B.Tech\"}\n",
        "print(Student)\n",
        "Student.update({\"Rollno\":12})          #update  key's value which in dictionary by update() keyword\n",
        "print(Student)\n",
        "Student.update({\"Age\":25})          #update  new key and its values in dictionary by update() keyword\n",
        "print(Student)\n"
      ],
      "execution_count": 117,
      "outputs": [
        {
          "output_type": "stream",
          "text": [
            "{'Name': 'Abhinav', 'Rollno': 1714310006, 'Course': 'B.Tech'}\n",
            "{'Name': 'Abhinav', 'Rollno': 12, 'Course': 'B.Tech'}\n",
            "{'Name': 'Abhinav', 'Rollno': 12, 'Course': 'B.Tech', 'Age': 25}\n"
          ],
          "name": "stdout"
        }
      ]
    },
    {
      "cell_type": "code",
      "metadata": {
        "colab": {
          "base_uri": "https://localhost:8080/"
        },
        "id": "dCbIGYEnh1A8",
        "outputId": "0de52834-2503-4bf0-9e1b-b1fcef4298a3"
      },
      "source": [
        "Student = {\"Name\":\"Abhinav\",\n",
        "           \"Rollno\":1714310006,\n",
        "           \"Course\":\"B.Tech\"}\n",
        "print(Student)\n",
        "Student.popitem()\n",
        "print(Student)\n",
        "Student[\"Age\"]=25\n",
        "print(Student)\n",
        "Student.popitem()\n",
        "print(Student)\n"
      ],
      "execution_count": 122,
      "outputs": [
        {
          "output_type": "stream",
          "text": [
            "{'Name': 'Abhinav', 'Rollno': 1714310006, 'Course': 'B.Tech'}\n",
            "{'Name': 'Abhinav', 'Rollno': 1714310006}\n",
            "{'Name': 'Abhinav', 'Rollno': 1714310006, 'Age': 25}\n",
            "{'Name': 'Abhinav', 'Rollno': 1714310006}\n"
          ],
          "name": "stdout"
        }
      ]
    },
    {
      "cell_type": "code",
      "metadata": {
        "colab": {
          "base_uri": "https://localhost:8080/"
        },
        "id": "EoF_aiVqj8UK",
        "outputId": "27047ba5-230d-48e8-bfe7-ae0b799ac0ca"
      },
      "source": [
        "Student = {\"Name\":\"Abhinav\",\n",
        "           \"Rollno\":1714310006,\n",
        "           \"Course\":\"B.Tech\"}\n",
        "print(Student)\n",
        "Student.pop(\"Course\")\n",
        "print(Student)\n"
      ],
      "execution_count": 124,
      "outputs": [
        {
          "output_type": "stream",
          "text": [
            "{'Name': 'Abhinav', 'Rollno': 1714310006, 'Course': 'B.Tech'}\n",
            "{'Name': 'Abhinav', 'Rollno': 1714310006}\n"
          ],
          "name": "stdout"
        }
      ]
    },
    {
      "cell_type": "code",
      "metadata": {
        "colab": {
          "base_uri": "https://localhost:8080/"
        },
        "id": "Z3sBCFGVlqeQ",
        "outputId": "44409295-fed8-4f32-eb4f-efa6999965de"
      },
      "source": [
        "Student = {\"Name\":\"Abhinav\",\n",
        "           \"Rollno\":1714310006,\n",
        "           \"Course\":\"B.Tech\"}\n",
        "print(Student)\n",
        "del Student[\"Name\"]\n",
        "print(Student)\n"
      ],
      "execution_count": 125,
      "outputs": [
        {
          "output_type": "stream",
          "text": [
            "{'Name': 'Abhinav', 'Rollno': 1714310006, 'Course': 'B.Tech'}\n",
            "{'Rollno': 1714310006, 'Course': 'B.Tech'}\n"
          ],
          "name": "stdout"
        }
      ]
    },
    {
      "cell_type": "code",
      "metadata": {
        "colab": {
          "base_uri": "https://localhost:8080/"
        },
        "id": "YVWJc0tLl_e0",
        "outputId": "8cb20cdc-aeb0-4edf-938e-bec433f7b90b"
      },
      "source": [
        "Student = {\"Name\":\"Abhinav\",\n",
        "           \"Rollno\":1714310006,\n",
        "           \"Course\":\"B.Tech\"}\n",
        "print(Student)\n",
        "Student.clear()\n",
        "print(Student)\n"
      ],
      "execution_count": 126,
      "outputs": [
        {
          "output_type": "stream",
          "text": [
            "{'Name': 'Abhinav', 'Rollno': 1714310006, 'Course': 'B.Tech'}\n",
            "{}\n"
          ],
          "name": "stdout"
        }
      ]
    },
    {
      "cell_type": "code",
      "metadata": {
        "colab": {
          "base_uri": "https://localhost:8080/"
        },
        "id": "E9ToEVHumbOl",
        "outputId": "57c40b05-20da-4af5-bf5d-c6857d67e479"
      },
      "source": [
        "Student = {\"Name\":\"Abhinav\",\n",
        "           \"Rollno\":1714310006,\n",
        "           \"Course\":\"B.Tech\"}\n",
        "print(Student)\n",
        "Stu=Student.copy()\n",
        "print(Stu)"
      ],
      "execution_count": 127,
      "outputs": [
        {
          "output_type": "stream",
          "text": [
            "{'Name': 'Abhinav', 'Rollno': 1714310006, 'Course': 'B.Tech'}\n",
            "{'Name': 'Abhinav', 'Rollno': 1714310006, 'Course': 'B.Tech'}\n"
          ],
          "name": "stdout"
        }
      ]
    },
    {
      "cell_type": "code",
      "metadata": {
        "colab": {
          "base_uri": "https://localhost:8080/"
        },
        "id": "T8UfvipGnQHh",
        "outputId": "6ea092f1-e622-4a85-ac87-0549a0d0efe2"
      },
      "source": [
        "Student = {\"Name\":\"Abhinav\",\n",
        "           \"Rollno\":1714310006,\n",
        "           \"Course\":\"B.Tech\"}\n",
        "print(Student)\n",
        "Stu=dict(Student)\n",
        "print(Stu)"
      ],
      "execution_count": 129,
      "outputs": [
        {
          "output_type": "stream",
          "text": [
            "{'Name': 'Abhinav', 'Rollno': 1714310006, 'Course': 'B.Tech'}\n",
            "{'Name': 'Abhinav', 'Rollno': 1714310006, 'Course': 'B.Tech'}\n"
          ],
          "name": "stdout"
        }
      ]
    },
    {
      "cell_type": "code",
      "metadata": {
        "id": "7VY2fhd9nmrl"
      },
      "source": [
        ""
      ],
      "execution_count": null,
      "outputs": []
    }
  ]
}