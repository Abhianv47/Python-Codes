{
  "nbformat": 4,
  "nbformat_minor": 0,
  "metadata": {
    "colab": {
      "name": "Untitled3.ipynb",
      "provenance": [],
      "authorship_tag": "ABX9TyOb9/z3LLLfDD97wVFTKTYS",
      "include_colab_link": true
    },
    "kernelspec": {
      "name": "python3",
      "display_name": "Python 3"
    },
    "language_info": {
      "name": "python"
    }
  },
  "cells": [
    {
      "cell_type": "markdown",
      "metadata": {
        "id": "view-in-github",
        "colab_type": "text"
      },
      "source": [
        "<a href=\"https://colab.research.google.com/github/Abhianv47/Python-Codes/blob/master/Untitled3.ipynb\" target=\"_parent\"><img src=\"https://colab.research.google.com/assets/colab-badge.svg\" alt=\"Open In Colab\"/></a>"
      ]
    },
    {
      "cell_type": "code",
      "metadata": {
        "colab": {
          "base_uri": "https://localhost:8080/"
        },
        "id": "9r0RclusKxWU",
        "outputId": "37d91bbb-261f-4d89-f11b-0f576ed9c441"
      },
      "source": [
        "fruits=[\"Apple\",\"Banana\",\"Orange\"]\n",
        "print(type(fruits))\n",
        "print(fruits[0])\n",
        "print(len(fruits))"
      ],
      "execution_count": 4,
      "outputs": [
        {
          "output_type": "stream",
          "text": [
            "<class 'list'>\n",
            "Apple\n",
            "3\n"
          ],
          "name": "stdout"
        }
      ]
    },
    {
      "cell_type": "code",
      "metadata": {
        "id": "a0-m1V04L8Ye"
      },
      "source": [
        ""
      ],
      "execution_count": null,
      "outputs": []
    },
    {
      "cell_type": "markdown",
      "metadata": {
        "id": "42sHT_11Nry9"
      },
      "source": [
        "# Range of Index"
      ]
    },
    {
      "cell_type": "code",
      "metadata": {
        "colab": {
          "base_uri": "https://localhost:8080/"
        },
        "id": "ij-S542SN0Ao",
        "outputId": "535de9d2-822b-411b-9080-884bd7d7e95b"
      },
      "source": [
        "fruits=[\"Apple\",\"Banana\",\"Orange\"]\n",
        "print(fruits[0:20])\n",
        "if \"Banana\" in fruits:\n",
        "  print(\"YES\")"
      ],
      "execution_count": 15,
      "outputs": [
        {
          "output_type": "stream",
          "text": [
            "['Apple', 'Banana', 'Orange']\n",
            "YES\n"
          ],
          "name": "stdout"
        }
      ]
    },
    {
      "cell_type": "code",
      "metadata": {
        "colab": {
          "base_uri": "https://localhost:8080/"
        },
        "id": "lHXCs5iUOCIy",
        "outputId": "c8fe84f5-3ab5-4ee8-d9ab-fdcd15450a84"
      },
      "source": [
        "fruits=[\"Apple\",\"Banana\",\"Orange\",\"Mango\",\"Guava\"]\n",
        "print(fruits)\n",
        "fruits[2]=\"Pineapple\"\n",
        "print(fruits)\n",
        "newfruits=\"watermalen\",\"kiwi\",\"peach\"\n",
        "fruits[1:3]=newfruits\n",
        "print(fruits)"
      ],
      "execution_count": 19,
      "outputs": [
        {
          "output_type": "stream",
          "text": [
            "['Apple', 'Banana', 'Orange', 'Mango', 'Guava']\n",
            "['Apple', 'Banana', 'Pineapple', 'Mango', 'Guava']\n",
            "['Apple', 'watermalen', 'kiwi', 'peach', 'Mango', 'Guava']\n"
          ],
          "name": "stdout"
        }
      ]
    },
    {
      "cell_type": "code",
      "metadata": {
        "colab": {
          "base_uri": "https://localhost:8080/"
        },
        "id": "V38-jlkiSte-",
        "outputId": "8859a4d4-1193-43e3-eb05-d0597d29c6e1"
      },
      "source": [
        "fruits=[\"Apple\",\"Banana\",\"Orange\",\"Mango\",\"Guava\"]\n",
        "fruits.insert(2,\"kiwi\")\n",
        "print(fruits)\n",
        "fruits.append(\"Pineapple\")\n",
        "print(fruits)\n",
        "newfruits=[\"watermalen\",\"plum\",\"peach\"]\n",
        "fruits.extend(newfruits)\n",
        "print(fruits)\n",
        "fruits.remove(\"Orange\")\n",
        "print(fruits)\n",
        "fruits.pop(2)\n",
        "print(fruits)\n",
        "fruits.pop()\n",
        "print(fruits)\n",
        "del fruits[0]\n",
        "print(fruits)\n"
      ],
      "execution_count": 30,
      "outputs": [
        {
          "output_type": "stream",
          "text": [
            "['Apple', 'Banana', 'kiwi', 'Orange', 'Mango', 'Guava']\n",
            "['Apple', 'Banana', 'kiwi', 'Orange', 'Mango', 'Guava', 'Pineapple']\n",
            "['Apple', 'Banana', 'kiwi', 'Orange', 'Mango', 'Guava', 'Pineapple', 'watermalen', 'plum', 'peach']\n",
            "['Apple', 'Banana', 'kiwi', 'Mango', 'Guava', 'Pineapple', 'watermalen', 'plum', 'peach']\n",
            "['Apple', 'Banana', 'Mango', 'Guava', 'Pineapple', 'watermalen', 'plum', 'peach']\n",
            "['Apple', 'Banana', 'Mango', 'Guava', 'Pineapple', 'watermalen', 'plum']\n",
            "['Banana', 'Mango', 'Guava', 'Pineapple', 'watermalen', 'plum']\n"
          ],
          "name": "stdout"
        }
      ]
    },
    {
      "cell_type": "code",
      "metadata": {
        "colab": {
          "base_uri": "https://localhost:8080/"
        },
        "id": "OipD6p2XVOT5",
        "outputId": "352e6bba-aeae-4afd-cebb-9967f2aa6f27"
      },
      "source": [
        "fruits=[\"Apple\",\"Banana\",\"Orange\",\"Mango\",\"Guava\"]\n",
        "print(fruits)"
      ],
      "execution_count": 33,
      "outputs": [
        {
          "output_type": "stream",
          "text": [
            "['Apple', 'Banana', 'Orange', 'Mango', 'Guava']\n"
          ],
          "name": "stdout"
        }
      ]
    },
    {
      "cell_type": "code",
      "metadata": {
        "colab": {
          "base_uri": "https://localhost:8080/",
          "height": 202
        },
        "id": "-GCfUnS3b67M",
        "outputId": "eee0a1cd-4070-4034-8302-4a3a822402d4"
      },
      "source": [
        "fruits=[\"Apple\",\"Banana\",\"Orange\",\"Mango\",\"Guava\"]\n",
        "del fruits\n",
        "print(fruits)"
      ],
      "execution_count": 34,
      "outputs": [
        {
          "output_type": "error",
          "ename": "NameError",
          "evalue": "ignored",
          "traceback": [
            "\u001b[0;31m---------------------------------------------------------------------------\u001b[0m",
            "\u001b[0;31mNameError\u001b[0m                                 Traceback (most recent call last)",
            "\u001b[0;32m<ipython-input-34-8ff30b2fa9c2>\u001b[0m in \u001b[0;36m<module>\u001b[0;34m()\u001b[0m\n\u001b[1;32m      1\u001b[0m \u001b[0mfruits\u001b[0m\u001b[0;34m=\u001b[0m\u001b[0;34m[\u001b[0m\u001b[0;34m\"Apple\"\u001b[0m\u001b[0;34m,\u001b[0m\u001b[0;34m\"Banana\"\u001b[0m\u001b[0;34m,\u001b[0m\u001b[0;34m\"Orange\"\u001b[0m\u001b[0;34m,\u001b[0m\u001b[0;34m\"Mango\"\u001b[0m\u001b[0;34m,\u001b[0m\u001b[0;34m\"Guava\"\u001b[0m\u001b[0;34m]\u001b[0m\u001b[0;34m\u001b[0m\u001b[0;34m\u001b[0m\u001b[0m\n\u001b[1;32m      2\u001b[0m \u001b[0;32mdel\u001b[0m \u001b[0mfruits\u001b[0m\u001b[0;34m\u001b[0m\u001b[0;34m\u001b[0m\u001b[0m\n\u001b[0;32m----> 3\u001b[0;31m \u001b[0mprint\u001b[0m\u001b[0;34m(\u001b[0m\u001b[0mfruits\u001b[0m\u001b[0;34m)\u001b[0m\u001b[0;34m\u001b[0m\u001b[0;34m\u001b[0m\u001b[0m\n\u001b[0m",
            "\u001b[0;31mNameError\u001b[0m: name 'fruits' is not defined"
          ]
        }
      ]
    },
    {
      "cell_type": "code",
      "metadata": {
        "colab": {
          "base_uri": "https://localhost:8080/"
        },
        "id": "ntZQb6xhcIzu",
        "outputId": "7a86166a-3f5b-405b-dd21-1b698201b99f"
      },
      "source": [
        "fruits=[\"Apple\",\"Banana\",\"Orange\",\"Mango\",\"Guava\"]\n",
        "print(fruits)\n",
        "fruits.clear()\n",
        "print(fruits)"
      ],
      "execution_count": 35,
      "outputs": [
        {
          "output_type": "stream",
          "text": [
            "['Apple', 'Banana', 'Orange', 'Mango', 'Guava']\n",
            "[]\n"
          ],
          "name": "stdout"
        }
      ]
    },
    {
      "cell_type": "code",
      "metadata": {
        "id": "q1_aQEhecoVn"
      },
      "source": [
        ""
      ],
      "execution_count": null,
      "outputs": []
    },
    {
      "cell_type": "markdown",
      "metadata": {
        "id": "MFy71RmhhAyS"
      },
      "source": [
        "## Tuples"
      ]
    },
    {
      "cell_type": "code",
      "metadata": {
        "colab": {
          "base_uri": "https://localhost:8080/"
        },
        "id": "TqnKFfK8hEwC",
        "outputId": "afee69a5-027c-4a5b-9a41-76afa3176116"
      },
      "source": [
        "animals=(\"Dog\",\"Cat\",\"Elephant\",\"Lion\")\n",
        "print(type(animals))\n",
        "report=(\"Abhinav\",24,3,6,60.36)\n",
        "print(type(report))\n",
        "print(animals)\n",
        "print(animals[1])"
      ],
      "execution_count": 41,
      "outputs": [
        {
          "output_type": "stream",
          "text": [
            "<class 'tuple'>\n",
            "<class 'tuple'>\n",
            "('Dog', 'Cat', 'Elephant', 'Lion')\n",
            "Cat\n"
          ],
          "name": "stdout"
        }
      ]
    },
    {
      "cell_type": "code",
      "metadata": {
        "id": "sEjA0wAVhTwp"
      },
      "source": [
        ""
      ],
      "execution_count": null,
      "outputs": []
    }
  ]
}