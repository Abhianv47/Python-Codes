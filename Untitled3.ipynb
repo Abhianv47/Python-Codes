{
  "nbformat": 4,
  "nbformat_minor": 0,
  "metadata": {
    "colab": {
      "name": "Untitled3.ipynb",
      "provenance": [],
      "authorship_tag": "ABX9TyP3lxmwEa1575OXx0eInWEw",
      "include_colab_link": true
    },
    "kernelspec": {
      "name": "python3",
      "display_name": "Python 3"
    },
    "language_info": {
      "name": "python"
    }
  },
  "cells": [
    {
      "cell_type": "markdown",
      "metadata": {
        "id": "view-in-github",
        "colab_type": "text"
      },
      "source": [
        "<a href=\"https://colab.research.google.com/github/Abhianv47/Python-Codes/blob/master/Untitled3.ipynb\" target=\"_parent\"><img src=\"https://colab.research.google.com/assets/colab-badge.svg\" alt=\"Open In Colab\"/></a>"
      ]
    },
    {
      "cell_type": "code",
      "metadata": {
        "colab": {
          "base_uri": "https://localhost:8080/"
        },
        "id": "9r0RclusKxWU",
        "outputId": "37d91bbb-261f-4d89-f11b-0f576ed9c441"
      },
      "source": [
        "fruits=[\"Apple\",\"Banana\",\"Orange\"]\n",
        "print(type(fruits))\n",
        "print(fruits[0])\n",
        "print(len(fruits))"
      ],
      "execution_count": 4,
      "outputs": [
        {
          "output_type": "stream",
          "text": [
            "<class 'list'>\n",
            "Apple\n",
            "3\n"
          ],
          "name": "stdout"
        }
      ]
    },
    {
      "cell_type": "code",
      "metadata": {
        "id": "a0-m1V04L8Ye"
      },
      "source": [
        ""
      ],
      "execution_count": null,
      "outputs": []
    },
    {
      "cell_type": "markdown",
      "metadata": {
        "id": "42sHT_11Nry9"
      },
      "source": [
        "# Range of Index"
      ]
    },
    {
      "cell_type": "code",
      "metadata": {
        "colab": {
          "base_uri": "https://localhost:8080/"
        },
        "id": "ij-S542SN0Ao",
        "outputId": "535de9d2-822b-411b-9080-884bd7d7e95b"
      },
      "source": [
        "fruits=[\"Apple\",\"Banana\",\"Orange\"]\n",
        "print(fruits[0:20])\n",
        "if \"Banana\" in fruits:\n",
        "  print(\"YES\")"
      ],
      "execution_count": 15,
      "outputs": [
        {
          "output_type": "stream",
          "text": [
            "['Apple', 'Banana', 'Orange']\n",
            "YES\n"
          ],
          "name": "stdout"
        }
      ]
    },
    {
      "cell_type": "code",
      "metadata": {
        "colab": {
          "base_uri": "https://localhost:8080/"
        },
        "id": "lHXCs5iUOCIy",
        "outputId": "c8fe84f5-3ab5-4ee8-d9ab-fdcd15450a84"
      },
      "source": [
        "fruits=[\"Apple\",\"Banana\",\"Orange\",\"Mango\",\"Guava\"]\n",
        "print(fruits)\n",
        "fruits[2]=\"Pineapple\"\n",
        "print(fruits)\n",
        "newfruits=\"watermalen\",\"kiwi\",\"peach\"\n",
        "fruits[1:3]=newfruits\n",
        "print(fruits)"
      ],
      "execution_count": 19,
      "outputs": [
        {
          "output_type": "stream",
          "text": [
            "['Apple', 'Banana', 'Orange', 'Mango', 'Guava']\n",
            "['Apple', 'Banana', 'Pineapple', 'Mango', 'Guava']\n",
            "['Apple', 'watermalen', 'kiwi', 'peach', 'Mango', 'Guava']\n"
          ],
          "name": "stdout"
        }
      ]
    },
    {
      "cell_type": "code",
      "metadata": {
        "colab": {
          "base_uri": "https://localhost:8080/"
        },
        "id": "V38-jlkiSte-",
        "outputId": "48225954-a5ad-4f98-ad63-05b6c4613993"
      },
      "source": [
        "fruits=[\"Apple\",\"Banana\",\"Orange\",\"Mango\",\"Guava\"]\n",
        "fruits.insert(2,\"kiwi\")\n",
        "print(fruits)\n",
        "fruits.append(\"Pineapple\")\n",
        "print(fruits)\n",
        "newfruits=[\"watermalen\",\"plum\",\"peach\"]\n",
        "fruits.extend(newfruits)\n",
        "print(fruits)\n",
        "fruits.remove(\"Orange\")\n",
        "print(fruits)\n",
        "fruits.pop(2)\n",
        "print(fruits)"
      ],
      "execution_count": 26,
      "outputs": [
        {
          "output_type": "stream",
          "text": [
            "['Apple', 'Banana', 'kiwi', 'Orange', 'Mango', 'Guava']\n",
            "['Apple', 'Banana', 'kiwi', 'Orange', 'Mango', 'Guava', 'Pineapple']\n",
            "['Apple', 'Banana', 'kiwi', 'Orange', 'Mango', 'Guava', 'Pineapple', 'watermalen', 'plum', 'peach']\n",
            "['Apple', 'Banana', 'kiwi', 'Mango', 'Guava', 'Pineapple', 'watermalen', 'plum', 'peach']\n",
            "['Apple', 'Banana', 'Mango', 'Guava', 'Pineapple', 'watermalen', 'plum', 'peach']\n"
          ],
          "name": "stdout"
        }
      ]
    },
    {
      "cell_type": "code",
      "metadata": {
        "id": "OipD6p2XVOT5"
      },
      "source": [
        ""
      ],
      "execution_count": null,
      "outputs": []
    }
  ]
}