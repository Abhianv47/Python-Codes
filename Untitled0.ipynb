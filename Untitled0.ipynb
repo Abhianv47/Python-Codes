{
  "nbformat": 4,
  "nbformat_minor": 0,
  "metadata": {
    "colab": {
      "name": "Untitled0.ipynb",
      "provenance": [],
      "toc_visible": true,
      "authorship_tag": "ABX9TyOFZUrWVBRTHPRKl/Sb02uK",
      "include_colab_link": true
    },
    "kernelspec": {
      "name": "python3",
      "display_name": "Python 3"
    },
    "language_info": {
      "name": "python"
    }
  },
  "cells": [
    {
      "cell_type": "markdown",
      "metadata": {
        "id": "view-in-github",
        "colab_type": "text"
      },
      "source": [
        "<a href=\"https://colab.research.google.com/github/Abhianv47/Python-Codes/blob/master/Untitled0.ipynb\" target=\"_parent\"><img src=\"https://colab.research.google.com/assets/colab-badge.svg\" alt=\"Open In Colab\"/></a>"
      ]
    },
    {
      "cell_type": "code",
      "metadata": {
        "colab": {
          "base_uri": "https://localhost:8080/"
        },
        "id": "HO3cajHJzYcB",
        "outputId": "dd4be9d5-f887-41ce-db4b-85001368c9ce"
      },
      "source": [
        "a=1\n",
        "b=2\n",
        "print(a+b)\n",
        "A=\"1\"\n",
        "B=\"6\"\n",
        "print(A+B)\n",
        "x=v=e=\"Abhinav\"\n",
        "print(x)\n",
        "A,B,C=1,2,3\n",
        "print(A)\n",
        "print(B)\n",
        "print(C)"
      ],
      "execution_count": 4,
      "outputs": [
        {
          "output_type": "stream",
          "text": [
            "3\n",
            "16\n",
            "Abhinav\n",
            "1\n",
            "2\n",
            "3\n"
          ],
          "name": "stdout"
        }
      ]
    },
    {
      "cell_type": "code",
      "metadata": {
        "colab": {
          "base_uri": "https://localhost:8080/"
        },
        "id": "YZYAGWeg18Z0",
        "outputId": "0866f1f6-90c8-4a18-d831-742739f2170c"
      },
      "source": [
        "a=1\n",
        "b=2\n",
        "print(a)\n",
        "print(b)\n",
        "print(type(a))\n",
        "print(type(b))\n",
        "c=int(3)\n",
        "print(c)\n",
        "print(type(c))\n",
        "d=float(10)\n",
        "print(d)\n",
        "print(type(d))"
      ],
      "execution_count": 10,
      "outputs": [
        {
          "output_type": "stream",
          "text": [
            "1\n",
            "2\n",
            "<class 'int'>\n",
            "<class 'int'>\n",
            "3\n",
            "<class 'int'>\n",
            "10.0\n",
            "<class 'float'>\n"
          ],
          "name": "stdout"
        }
      ]
    },
    {
      "cell_type": "code",
      "metadata": {
        "colab": {
          "base_uri": "https://localhost:8080/"
        },
        "id": "j-FSIO1o7j8u",
        "outputId": "7fbd4d5f-f52f-4cc7-e2e6-cf229603d5ce"
      },
      "source": [
        "x=10\n",
        "y=10.30\n",
        "z=52j\n",
        "print(\"x is \")\n",
        "print(type(x))\n",
        "print(\"y is \")\n",
        "print(type(y))\n",
        "print(\"z is \" )\n",
        "print(type(z))"
      ],
      "execution_count": 14,
      "outputs": [
        {
          "output_type": "stream",
          "text": [
            "x is \n",
            "<class 'int'>\n",
            "y is \n",
            "<class 'float'>\n",
            "z is \n",
            "<class 'complex'>\n"
          ],
          "name": "stdout"
        }
      ]
    },
    {
      "cell_type": "code",
      "metadata": {
        "colab": {
          "base_uri": "https://localhost:8080/"
        },
        "id": "DjGZRDyy_lzw",
        "outputId": "ed72c913-41a7-4bde-9c44-77b3cc24860c"
      },
      "source": [
        "import random\n",
        "print(random.randrange(1,20))"
      ],
      "execution_count": 29,
      "outputs": [
        {
          "output_type": "stream",
          "text": [
            "14\n"
          ],
          "name": "stdout"
        }
      ]
    },
    {
      "cell_type": "code",
      "metadata": {
        "colab": {
          "base_uri": "https://localhost:8080/"
        },
        "id": "-m3MVCHl_yCi",
        "outputId": "70b5154d-00c8-47e8-83e5-66f145563e8d"
      },
      "source": [
        "x=1\n",
        "y=10.2\n",
        "print(type(x))\n",
        "x=str(1)\n",
        "print(x)\n",
        "print(type(x))\n",
        "print(type(y))\n",
        "y=int(10.2)\n",
        "print(y)\n",
        "print(type(y))"
      ],
      "execution_count": 32,
      "outputs": [
        {
          "output_type": "stream",
          "text": [
            "<class 'int'>\n",
            "1\n",
            "<class 'str'>\n",
            "<class 'float'>\n",
            "10\n",
            "<class 'int'>\n"
          ],
          "name": "stdout"
        }
      ]
    },
    {
      "cell_type": "code",
      "metadata": {
        "colab": {
          "base_uri": "https://localhost:8080/"
        },
        "id": "sA9d-0GKLkYB",
        "outputId": "f7ec9c99-b66a-42bd-a3c1-a6208808757c"
      },
      "source": [
        "x='this is abhinav'\n",
        "y=\"this is abhjionav\"\n",
        "print(x)\n",
        "print(y)\n",
        "print(type(x))\n",
        "print(type(y))\n",
        "print(\"isdbs sjdsdhb jndjnd\")\n",
        "print('bhsdb nsdbb jdjb')\n",
        "print('''hsjhdjhdshd\n",
        "dsdhsd\n",
        "shdjshddhsjhs jdjshd jdhjd\n",
        "dskdkda bdjsds jdnksdn\n",
        "djhdjs\n",
        "dkjdksd\n",
        "''')\n",
        "print(x[6])\n",
        "print(len(y))\n",
        "z=\"Abhinav\"\n",
        "print(len(z))"
      ],
      "execution_count": 39,
      "outputs": [
        {
          "output_type": "stream",
          "text": [
            "this is abhinav\n",
            "this is abhjionav\n",
            "<class 'str'>\n",
            "<class 'str'>\n",
            "isdbs sjdsdhb jndjnd\n",
            "bhsdb nsdbb jdjb\n",
            "hsjhdjhdshd\n",
            "dsdhsd\n",
            "shdjshddhsjhs jdjshd jdhjd\n",
            "dskdkda bdjsds jdnksdn\n",
            "djhdjs\n",
            "dkjdksd\n",
            "\n",
            "s\n",
            "17\n",
            "7\n"
          ],
          "name": "stdout"
        }
      ]
    },
    {
      "cell_type": "code",
      "metadata": {
        "colab": {
          "base_uri": "https://localhost:8080/"
        },
        "id": "NLIxFJ-VPT0B",
        "outputId": "5d5cee19-bc4b-4271-e704-29f7be66d5f3"
      },
      "source": [
        "x=\"i am abhinav kumar soni\"\n",
        "print(x)\n",
        "print(\"am\" in x)\n",
        "print(\"is\" in x)"
      ],
      "execution_count": 41,
      "outputs": [
        {
          "output_type": "stream",
          "text": [
            "i am abhinav kumar soni\n",
            "True\n",
            "False\n"
          ],
          "name": "stdout"
        }
      ]
    },
    {
      "cell_type": "code",
      "metadata": {
        "colab": {
          "base_uri": "https://localhost:8080/"
        },
        "id": "TbAdMxdCU_ro",
        "outputId": "0340a729-fccd-4a1b-c672-51c139a856f6"
      },
      "source": [
        "x=\"I am abhinav soni\"\n",
        "print(x)\n",
        "print(\"am\" not in x)\n",
        "print(\"kumar\" not in x)"
      ],
      "execution_count": 42,
      "outputs": [
        {
          "output_type": "stream",
          "text": [
            "I am abhinav soni\n",
            "False\n",
            "True\n"
          ],
          "name": "stdout"
        }
      ]
    },
    {
      "cell_type": "code",
      "metadata": {
        "id": "xFzYTj9wV1hw"
      },
      "source": [
        ""
      ],
      "execution_count": null,
      "outputs": []
    }
  ]
}