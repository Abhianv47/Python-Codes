{
  "nbformat": 4,
  "nbformat_minor": 0,
  "metadata": {
    "colab": {
      "name": "Untitled0.ipynb",
      "provenance": [],
      "toc_visible": true,
      "authorship_tag": "ABX9TyMu8zqe1p5CGk0r5Bd0ZSoP",
      "include_colab_link": true
    },
    "kernelspec": {
      "name": "python3",
      "display_name": "Python 3"
    },
    "language_info": {
      "name": "python"
    }
  },
  "cells": [
    {
      "cell_type": "markdown",
      "metadata": {
        "id": "view-in-github",
        "colab_type": "text"
      },
      "source": [
        "<a href=\"https://colab.research.google.com/github/Abhianv47/Python-Codes/blob/master/Untitled0.ipynb\" target=\"_parent\"><img src=\"https://colab.research.google.com/assets/colab-badge.svg\" alt=\"Open In Colab\"/></a>"
      ]
    },
    {
      "cell_type": "code",
      "metadata": {
        "colab": {
          "base_uri": "https://localhost:8080/"
        },
        "id": "HO3cajHJzYcB",
        "outputId": "dd4be9d5-f887-41ce-db4b-85001368c9ce"
      },
      "source": [
        "a=1\n",
        "b=2\n",
        "print(a+b)\n",
        "A=\"1\"\n",
        "B=\"6\"\n",
        "print(A+B)\n",
        "x=v=e=\"Abhinav\"\n",
        "print(x)\n",
        "A,B,C=1,2,3\n",
        "print(A)\n",
        "print(B)\n",
        "print(C)"
      ],
      "execution_count": 4,
      "outputs": [
        {
          "output_type": "stream",
          "text": [
            "3\n",
            "16\n",
            "Abhinav\n",
            "1\n",
            "2\n",
            "3\n"
          ],
          "name": "stdout"
        }
      ]
    },
    {
      "cell_type": "code",
      "metadata": {
        "colab": {
          "base_uri": "https://localhost:8080/"
        },
        "id": "YZYAGWeg18Z0",
        "outputId": "0866f1f6-90c8-4a18-d831-742739f2170c"
      },
      "source": [
        "a=1\n",
        "b=2\n",
        "print(a)\n",
        "print(b)\n",
        "print(type(a))\n",
        "print(type(b))\n",
        "c=int(3)\n",
        "print(c)\n",
        "print(type(c))\n",
        "d=float(10)\n",
        "print(d)\n",
        "print(type(d))"
      ],
      "execution_count": 10,
      "outputs": [
        {
          "output_type": "stream",
          "text": [
            "1\n",
            "2\n",
            "<class 'int'>\n",
            "<class 'int'>\n",
            "3\n",
            "<class 'int'>\n",
            "10.0\n",
            "<class 'float'>\n"
          ],
          "name": "stdout"
        }
      ]
    },
    {
      "cell_type": "code",
      "metadata": {
        "colab": {
          "base_uri": "https://localhost:8080/"
        },
        "id": "j-FSIO1o7j8u",
        "outputId": "7fbd4d5f-f52f-4cc7-e2e6-cf229603d5ce"
      },
      "source": [
        "x=10\n",
        "y=10.30\n",
        "z=52j\n",
        "print(\"x is \")\n",
        "print(type(x))\n",
        "print(\"y is \")\n",
        "print(type(y))\n",
        "print(\"z is \" )\n",
        "print(type(z))"
      ],
      "execution_count": 14,
      "outputs": [
        {
          "output_type": "stream",
          "text": [
            "x is \n",
            "<class 'int'>\n",
            "y is \n",
            "<class 'float'>\n",
            "z is \n",
            "<class 'complex'>\n"
          ],
          "name": "stdout"
        }
      ]
    },
    {
      "cell_type": "code",
      "metadata": {
        "colab": {
          "base_uri": "https://localhost:8080/"
        },
        "id": "DjGZRDyy_lzw",
        "outputId": "ed72c913-41a7-4bde-9c44-77b3cc24860c"
      },
      "source": [
        "import random\n",
        "print(random.randrange(1,20))"
      ],
      "execution_count": 29,
      "outputs": [
        {
          "output_type": "stream",
          "text": [
            "14\n"
          ],
          "name": "stdout"
        }
      ]
    },
    {
      "cell_type": "code",
      "metadata": {
        "colab": {
          "base_uri": "https://localhost:8080/"
        },
        "id": "-m3MVCHl_yCi",
        "outputId": "70b5154d-00c8-47e8-83e5-66f145563e8d"
      },
      "source": [
        "x=1\n",
        "y=10.2\n",
        "print(type(x))\n",
        "x=str(1)\n",
        "print(x)\n",
        "print(type(x))\n",
        "print(type(y))\n",
        "y=int(10.2)\n",
        "print(y)\n",
        "print(type(y))"
      ],
      "execution_count": 32,
      "outputs": [
        {
          "output_type": "stream",
          "text": [
            "<class 'int'>\n",
            "1\n",
            "<class 'str'>\n",
            "<class 'float'>\n",
            "10\n",
            "<class 'int'>\n"
          ],
          "name": "stdout"
        }
      ]
    },
    {
      "cell_type": "code",
      "metadata": {
        "id": "sA9d-0GKLkYB"
      },
      "source": [
        ""
      ],
      "execution_count": null,
      "outputs": []
    }
  ]
}