{
  "nbformat": 4,
  "nbformat_minor": 0,
  "metadata": {
    "colab": {
      "name": "Untitled4.ipynb",
      "provenance": [],
      "collapsed_sections": [],
      "authorship_tag": "ABX9TyM7H3z2VweAU/e4OJdG4hsp",
      "include_colab_link": true
    },
    "kernelspec": {
      "name": "python3",
      "display_name": "Python 3"
    },
    "language_info": {
      "name": "python"
    }
  },
  "cells": [
    {
      "cell_type": "markdown",
      "metadata": {
        "id": "view-in-github",
        "colab_type": "text"
      },
      "source": [
        "<a href=\"https://colab.research.google.com/github/Abhianv47/Python-Codes/blob/master/Untitled4.ipynb\" target=\"_parent\"><img src=\"https://colab.research.google.com/assets/colab-badge.svg\" alt=\"Open In Colab\"/></a>"
      ]
    },
    {
      "cell_type": "code",
      "metadata": {
        "colab": {
          "base_uri": "https://localhost:8080/"
        },
        "id": "pnoc-2z1gJTi",
        "outputId": "cd8e8438-6f64-4cb6-87a0-6a6a922a96e0"
      },
      "source": [
        "fruits={\"apple\",\"Orrande\",\"Mango\",\"Guava\"}\n",
        "print(type(fruits))\n",
        "fruits.remove(\"Orrande\")\n",
        "print(fruits)\n",
        "fruits.add(\"Grapes\")\n",
        "print(fruits)\n",
        "fruits.pop()\n",
        "print(fruits)\n",
        "fruits.clear()\n",
        "print(fruits)\n"
      ],
      "execution_count": null,
      "outputs": [
        {
          "output_type": "stream",
          "text": [
            "<class 'set'>\n",
            "{'Mango', 'apple', 'Guava'}\n",
            "{'Grapes', 'Mango', 'apple', 'Guava'}\n",
            "{'Mango', 'apple', 'Guava'}\n",
            "set()\n"
          ],
          "name": "stdout"
        }
      ]
    },
    {
      "cell_type": "code",
      "metadata": {
        "colab": {
          "base_uri": "https://localhost:8080/",
          "height": 202
        },
        "id": "V20DVf9Ugm1r",
        "outputId": "4d58c703-84f4-441a-96b2-d258d4b32ef3"
      },
      "source": [
        "fruits={\"apple\",\"Orrande\",\"Mango\",\"Guava\"}\n",
        "del fruits\n",
        "print(fruits)"
      ],
      "execution_count": null,
      "outputs": [
        {
          "output_type": "error",
          "ename": "NameError",
          "evalue": "ignored",
          "traceback": [
            "\u001b[0;31m---------------------------------------------------------------------------\u001b[0m",
            "\u001b[0;31mNameError\u001b[0m                                 Traceback (most recent call last)",
            "\u001b[0;32m<ipython-input-9-41eca86b1860>\u001b[0m in \u001b[0;36m<module>\u001b[0;34m()\u001b[0m\n\u001b[1;32m      1\u001b[0m \u001b[0mfruits\u001b[0m\u001b[0;34m=\u001b[0m\u001b[0;34m{\u001b[0m\u001b[0;34m\"apple\"\u001b[0m\u001b[0;34m,\u001b[0m\u001b[0;34m\"Orrande\"\u001b[0m\u001b[0;34m,\u001b[0m\u001b[0;34m\"Mango\"\u001b[0m\u001b[0;34m,\u001b[0m\u001b[0;34m\"Guava\"\u001b[0m\u001b[0;34m}\u001b[0m\u001b[0;34m\u001b[0m\u001b[0;34m\u001b[0m\u001b[0m\n\u001b[1;32m      2\u001b[0m \u001b[0;32mdel\u001b[0m \u001b[0mfruits\u001b[0m\u001b[0;34m\u001b[0m\u001b[0;34m\u001b[0m\u001b[0m\n\u001b[0;32m----> 3\u001b[0;31m \u001b[0mprint\u001b[0m\u001b[0;34m(\u001b[0m\u001b[0mfruits\u001b[0m\u001b[0;34m)\u001b[0m\u001b[0;34m\u001b[0m\u001b[0;34m\u001b[0m\u001b[0m\n\u001b[0m",
            "\u001b[0;31mNameError\u001b[0m: name 'fruits' is not defined"
          ]
        }
      ]
    },
    {
      "cell_type": "code",
      "metadata": {
        "id": "wEFWuJQNhcSz"
      },
      "source": [
        ""
      ],
      "execution_count": null,
      "outputs": []
    },
    {
      "cell_type": "markdown",
      "metadata": {
        "id": "sD1NbTCMnZ_5"
      },
      "source": [
        "# Dictionary\n"
      ]
    },
    {
      "cell_type": "code",
      "metadata": {
        "colab": {
          "base_uri": "https://localhost:8080/"
        },
        "id": "ijUNMB1Xnn84",
        "outputId": "5a2526bc-4a5a-4cf9-948a-5a73360e216b"
      },
      "source": [
        "parent={\n",
        "    \"child_1\": {\n",
        "        \"name\" : \"child_1\",\n",
        "        \"age\" : 10\n",
        "    },\n",
        "    \"child_2\" : {\n",
        "        \"name\" : \"child_2\",\n",
        "        \"age\" : 20\n",
        "    }\n",
        "}\n",
        "print(parent)"
      ],
      "execution_count": null,
      "outputs": [
        {
          "output_type": "stream",
          "text": [
            "{'child_1': {'name': 'child_1', 'age': 10}, 'child_2': {'name': 'child_2', 'age': 20}}\n"
          ],
          "name": "stdout"
        }
      ]
    },
    {
      "cell_type": "code",
      "metadata": {
        "colab": {
          "base_uri": "https://localhost:8080/"
        },
        "id": "W-t2JnaepPmD",
        "outputId": "a2a51b46-d29e-48a5-9dd9-d4f2ba462d69"
      },
      "source": [
        "child_1={\n",
        "    \"name\":\"child_1\",\n",
        "    \"age\":20 \n",
        "}\n",
        "child_2={\n",
        "    \"name\":\"child_2\",\n",
        "    \"age\":10\n",
        "}\n",
        "parent={\n",
        "    \"child_1\" : child_1,\n",
        "    \"child_2\" : child_2\n",
        "}\n",
        "print(parent)"
      ],
      "execution_count": null,
      "outputs": [
        {
          "output_type": "stream",
          "text": [
            "{'child_1': {'name': 'child_1', 'age': 20}, 'child_2': {'name': 'child_2', 'age': 10}}\n"
          ],
          "name": "stdout"
        }
      ]
    },
    {
      "cell_type": "code",
      "metadata": {
        "colab": {
          "base_uri": "https://localhost:8080/"
        },
        "id": "sI4tf0Qsr1vY",
        "outputId": "a2308bed-d6f8-43fe-946f-605e255dc75d"
      },
      "source": [
        "child_1={\n",
        "    \"name\":\"child_1\",\n",
        "    \"age\":20 \n",
        "}\n",
        "x=child_1.fromkeys(\"name\")\n",
        "print(x)"
      ],
      "execution_count": null,
      "outputs": [
        {
          "output_type": "stream",
          "text": [
            "{'n': None, 'a': None, 'm': None, 'e': None}\n"
          ],
          "name": "stdout"
        }
      ]
    },
    {
      "cell_type": "code",
      "metadata": {
        "colab": {
          "base_uri": "https://localhost:8080/"
        },
        "id": "FIkTIASKvslB",
        "outputId": "3ef43047-0b54-4356-cd90-d210bd645bc6"
      },
      "source": [
        "child_1={\n",
        "    \"name\":\"child_1\",\n",
        "    \"age\":20 \n",
        "}\n",
        "x=child_1.get(\"age\")\n",
        "print(x)"
      ],
      "execution_count": null,
      "outputs": [
        {
          "output_type": "stream",
          "text": [
            "20\n"
          ],
          "name": "stdout"
        }
      ]
    },
    {
      "cell_type": "code",
      "metadata": {
        "id": "OOxieXMbtsVU"
      },
      "source": [
        ""
      ],
      "execution_count": null,
      "outputs": []
    },
    {
      "cell_type": "markdown",
      "metadata": {
        "id": "CU-zUNoZqZGb"
      },
      "source": [
        "# Control Statement (If Else)"
      ]
    },
    {
      "cell_type": "code",
      "metadata": {
        "id": "Qq6NTwklnfu9",
        "colab": {
          "base_uri": "https://localhost:8080/"
        },
        "outputId": "22381a46-ecbe-4cc2-e2f2-5faa0a144533"
      },
      "source": [
        "a=10\n",
        "b=10\n",
        "if a==b:\n",
        "  print(\"True\")"
      ],
      "execution_count": 9,
      "outputs": [
        {
          "output_type": "stream",
          "text": [
            "True\n"
          ],
          "name": "stdout"
        }
      ]
    },
    {
      "cell_type": "code",
      "metadata": {
        "colab": {
          "base_uri": "https://localhost:8080/"
        },
        "id": "Mtvht9uJtybr",
        "outputId": "fda16549-86e8-40c0-f445-cc33ea3616e5"
      },
      "source": [
        "a=10\n",
        "b=20\n",
        "if a!=b:\n",
        "  print(\"a is not equal to b\")"
      ],
      "execution_count": 8,
      "outputs": [
        {
          "output_type": "stream",
          "text": [
            "a is not equal to b\n"
          ],
          "name": "stdout"
        }
      ]
    },
    {
      "cell_type": "code",
      "metadata": {
        "colab": {
          "base_uri": "https://localhost:8080/"
        },
        "id": "tCnHZG4dt26G",
        "outputId": "22fd1bd6-c4f3-44b7-9c64-1203a44a6a46"
      },
      "source": [
        "a=10\n",
        "b=20\n",
        "if a==b:\n",
        "  print(\"a is equal to b\")\n",
        "elif a!=b:\n",
        "  print(\"a is not equal to b\")"
      ],
      "execution_count": 11,
      "outputs": [
        {
          "output_type": "stream",
          "text": [
            "a is not equal to b\n"
          ],
          "name": "stdout"
        }
      ]
    },
    {
      "cell_type": "code",
      "metadata": {
        "colab": {
          "base_uri": "https://localhost:8080/"
        },
        "id": "Zd5JaUK5u809",
        "outputId": "4cac77e5-0ab0-45ca-b107-c8569cd49de7"
      },
      "source": [
        "a=10\n",
        "b=10\n",
        "if a>b:\n",
        "  print(\"a is greater than b\")\n",
        "elif a<b:\n",
        "  print(\"a is less gthan b\")\n",
        "else:\n",
        "  print(\"a is equal to b\")"
      ],
      "execution_count": 12,
      "outputs": [
        {
          "output_type": "stream",
          "text": [
            "a is equal to b\n"
          ],
          "name": "stdout"
        }
      ]
    },
    {
      "cell_type": "code",
      "metadata": {
        "colab": {
          "base_uri": "https://localhost:8080/"
        },
        "id": "HcAnCCAuvifX",
        "outputId": "e8f57e11-6da3-4d82-d01a-2b52269ab974"
      },
      "source": [
        "a=20\n",
        "b=10\n",
        "if a>b : print(\"a is greater than b\")"
      ],
      "execution_count": 13,
      "outputs": [
        {
          "output_type": "stream",
          "text": [
            "a is greater than b\n"
          ],
          "name": "stdout"
        }
      ]
    },
    {
      "cell_type": "code",
      "metadata": {
        "colab": {
          "base_uri": "https://localhost:8080/"
        },
        "id": "u5G-VXh1we5D",
        "outputId": "274fe072-3f53-4703-ff37-1aeda4eeae7b"
      },
      "source": [
        "a=10\n",
        "b=20\n",
        "print(\"a is greater than b\") if a>b else print(\"a is less than b\")"
      ],
      "execution_count": 14,
      "outputs": [
        {
          "output_type": "stream",
          "text": [
            "a is less than b\n"
          ],
          "name": "stdout"
        }
      ]
    },
    {
      "cell_type": "code",
      "metadata": {
        "colab": {
          "base_uri": "https://localhost:8080/",
          "height": 132
        },
        "id": "8B-UAqp1xR_U",
        "outputId": "1a7ff31e-3ded-40e1-d41b-859f0aae1d69"
      },
      "source": [
        "a=10\n",
        "b=10\n",
        "if a==b:         # it will not show error because we have key pass that mens we pass gthe key\n",
        "  pass\n",
        "  if a==b:        #  it will show error because if statement can not be blank "
      ],
      "execution_count": 17,
      "outputs": [
        {
          "output_type": "error",
          "ename": "SyntaxError",
          "evalue": "ignored",
          "traceback": [
            "\u001b[0;36m  File \u001b[0;32m\"<ipython-input-17-f05183c5ece2>\"\u001b[0;36m, line \u001b[0;32m5\u001b[0m\n\u001b[0;31m    if a==b:        #  it will show error because if statement can not be blank\u001b[0m\n\u001b[0m                                                                                ^\u001b[0m\n\u001b[0;31mSyntaxError\u001b[0m\u001b[0;31m:\u001b[0m unexpected EOF while parsing\n"
          ]
        }
      ]
    },
    {
      "cell_type": "markdown",
      "metadata": {
        "id": "ayC4R4oEzDEs"
      },
      "source": [
        "# Loop"
      ]
    },
    {
      "cell_type": "code",
      "metadata": {
        "colab": {
          "base_uri": "https://localhost:8080/"
        },
        "id": "eSwfQPsFyWLQ",
        "outputId": "d9f5ff29-8766-4a28-ae54-a15766f99a22"
      },
      "source": [
        "i=1\n",
        "while i<=10:\n",
        "  print(i)\n",
        "  i+=1\n",
        "print(\"thanku\")\n",
        "  "
      ],
      "execution_count": 24,
      "outputs": [
        {
          "output_type": "stream",
          "text": [
            "1\n",
            "2\n",
            "3\n",
            "4\n",
            "5\n",
            "6\n",
            "7\n",
            "8\n",
            "9\n",
            "10\n",
            "thanku\n"
          ],
          "name": "stdout"
        }
      ]
    },
    {
      "cell_type": "code",
      "metadata": {
        "colab": {
          "base_uri": "https://localhost:8080/"
        },
        "id": "s5ySYpzx1AjU",
        "outputId": "049aaf86-fb71-4181-e948-0adf1b85c370"
      },
      "source": [
        "i=1\n",
        "while i<=10:\n",
        "  if(i==6):\n",
        "    break\n",
        "  print(i)\n",
        "  i+=1"
      ],
      "execution_count": 26,
      "outputs": [
        {
          "output_type": "stream",
          "text": [
            "1\n",
            "2\n",
            "3\n",
            "4\n",
            "5\n"
          ],
          "name": "stdout"
        }
      ]
    },
    {
      "cell_type": "code",
      "metadata": {
        "colab": {
          "base_uri": "https://localhost:8080/"
        },
        "id": "xwen3lJM3X1a",
        "outputId": "5fb2960a-d765-4cdc-f404-deac444b8f26"
      },
      "source": [
        " i=1\n",
        "while i<10:\n",
        "   i+=1\n",
        "   if i==5:\n",
        "    continue\n",
        "   print(i)\n",
        " "
      ],
      "execution_count": 33,
      "outputs": [
        {
          "output_type": "stream",
          "text": [
            "2\n",
            "3\n",
            "4\n",
            "6\n",
            "7\n",
            "8\n",
            "9\n",
            "10\n"
          ],
          "name": "stdout"
        }
      ]
    },
    {
      "cell_type": "code",
      "metadata": {
        "id": "agi5a4BL48yo"
      },
      "source": [
        ""
      ],
      "execution_count": null,
      "outputs": []
    }
  ]
}