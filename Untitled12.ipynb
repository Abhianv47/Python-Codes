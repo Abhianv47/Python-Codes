{
  "nbformat": 4,
  "nbformat_minor": 0,
  "metadata": {
    "colab": {
      "name": "Untitled12.ipynb",
      "provenance": [],
      "authorship_tag": "ABX9TyMC85xQ9dEQIt02zfWhZpRp",
      "include_colab_link": true
    },
    "kernelspec": {
      "name": "python3",
      "display_name": "Python 3"
    },
    "language_info": {
      "name": "python"
    }
  },
  "cells": [
    {
      "cell_type": "markdown",
      "metadata": {
        "id": "view-in-github",
        "colab_type": "text"
      },
      "source": [
        "<a href=\"https://colab.research.google.com/github/Abhianv47/Python-Codes/blob/master/Untitled12.ipynb\" target=\"_parent\"><img src=\"https://colab.research.google.com/assets/colab-badge.svg\" alt=\"Open In Colab\"/></a>"
      ]
    },
    {
      "cell_type": "code",
      "metadata": {
        "id": "S8VdO4QLjIKS"
      },
      "source": [
        ""
      ],
      "execution_count": null,
      "outputs": []
    },
    {
      "cell_type": "markdown",
      "metadata": {
        "id": "5usQJ4hop7vA"
      },
      "source": [
        "#  Iterator\n"
      ]
    },
    {
      "cell_type": "code",
      "metadata": {
        "colab": {
          "base_uri": "https://localhost:8080/"
        },
        "id": "tahAVfptp-fC",
        "outputId": "ebf155fe-19c4-4b0f-9576-295cc269a1fa"
      },
      "source": [
        "class Abc :\n",
        "  def __iter__(self):\n",
        "    self.x =1\n",
        "    return self.x\n",
        "\n",
        "\n",
        "  def __next__(self):\n",
        "    y=self.x\n",
        "    y+=1\n",
        "    return y\n",
        "\n",
        "\n",
        "a=Abc()\n",
        "print(a.__iter__())\n",
        "print(a.__next__())"
      ],
      "execution_count": 3,
      "outputs": [
        {
          "output_type": "stream",
          "text": [
            "1\n",
            "2\n"
          ],
          "name": "stdout"
        }
      ]
    },
    {
      "cell_type": "code",
      "metadata": {
        "colab": {
          "base_uri": "https://localhost:8080/"
        },
        "id": "Ey4B_5u-rXsJ",
        "outputId": "7df6a7d5-33f7-4d10-d12a-7457cbe8a0c6"
      },
      "source": [
        "class Abc :\n",
        "  def __iter__(self):\n",
        "    self.x =1\n",
        "    return self.x\n",
        "\n",
        "\n",
        "  def __next__(self):\n",
        "    y=self.x\n",
        "    self.x+=1\n",
        "    return y\n",
        "\n",
        "\n",
        "a=Abc()\n",
        "a.__iter__()\n",
        "print(a.__next__())\n",
        "print(a.__next__())\n",
        "print(a.__next__())\n",
        "print(a.__next__())\n",
        "print(a.__next__())"
      ],
      "execution_count": 11,
      "outputs": [
        {
          "output_type": "stream",
          "text": [
            "1\n",
            "2\n",
            "3\n",
            "4\n",
            "5\n"
          ],
          "name": "stdout"
        }
      ]
    },
    {
      "cell_type": "code",
      "metadata": {
        "colab": {
          "base_uri": "https://localhost:8080/"
        },
        "id": "OO43a168sF6Z",
        "outputId": "3a9d8c4d-1dfc-496a-badc-8ed8afb52713"
      },
      "source": [
        "class Abc :\n",
        "  def __iter__(self):\n",
        "    self.x =1\n",
        "    return self\n",
        "\n",
        "\n",
        "  def __next__(self):\n",
        "    if self.x<=20:\n",
        "      y=self.x\n",
        "      self.x+=1\n",
        "      return y\n",
        "    else:\n",
        "      raise StopIteration\n",
        "    \n",
        "\n",
        "\n",
        "a = Abc()\n",
        "y = iter(a)\n",
        "\n",
        "for v in a:\n",
        "  print (v)"
      ],
      "execution_count": 22,
      "outputs": [
        {
          "output_type": "stream",
          "text": [
            "1\n",
            "2\n",
            "3\n",
            "4\n",
            "5\n",
            "6\n",
            "7\n",
            "8\n",
            "9\n",
            "10\n",
            "11\n",
            "12\n",
            "13\n",
            "14\n",
            "15\n",
            "16\n",
            "17\n",
            "18\n",
            "19\n",
            "20\n"
          ],
          "name": "stdout"
        }
      ]
    },
    {
      "cell_type": "markdown",
      "metadata": {
        "id": "axStIhauxbRG"
      },
      "source": [
        "#    Scope"
      ]
    },
    {
      "cell_type": "code",
      "metadata": {
        "colab": {
          "base_uri": "https://localhost:8080/"
        },
        "id": "TkksENbetn7_",
        "outputId": "bf91d499-886f-4baf-d07e-98669aad1985"
      },
      "source": [
        "def Addition():\n",
        "  c=1+2\n",
        "  print(c)         # c variable is local which is creates inside the function and can not be call outside the dunction so it is local\n",
        "\n",
        "Addition()"
      ],
      "execution_count": 25,
      "outputs": [
        {
          "output_type": "stream",
          "text": [
            "3\n"
          ],
          "name": "stdout"
        }
      ]
    },
    {
      "cell_type": "code",
      "metadata": {
        "colab": {
          "base_uri": "https://localhost:8080/"
        },
        "id": "OXlDWY1b0fDq",
        "outputId": "b83c29d2-8a73-4e86-fb2c-b1e8cdfdbe07"
      },
      "source": [
        "c=1+2        #Global variable\n",
        "def Addition():\n",
        "  c=5+2       #Local variable\n",
        "  print(c)             #output will be 7 because local variable is called here\n",
        "\n",
        "Addition()\n",
        "print(c)      #output will be 3 because global variable is called here"
      ],
      "execution_count": 27,
      "outputs": [
        {
          "output_type": "stream",
          "text": [
            "7\n",
            "3\n"
          ],
          "name": "stdout"
        }
      ]
    },
    {
      "cell_type": "markdown",
      "metadata": {
        "id": "Kzrpy6J62c5g"
      },
      "source": [
        "# Function inside Function"
      ]
    },
    {
      "cell_type": "code",
      "metadata": {
        "colab": {
          "base_uri": "https://localhost:8080/"
        },
        "id": "v_c5Z9VZ2Fde",
        "outputId": "cf1343ab-55c4-4200-d7a0-3cccf7d53fce"
      },
      "source": [
        "def Addition():\n",
        "  c=3\n",
        "  def print():\n",
        "    print(c)\n",
        "\n",
        "\n",
        "print()\n"
      ],
      "execution_count": 31,
      "outputs": [
        {
          "output_type": "stream",
          "text": [
            "\n"
          ],
          "name": "stdout"
        }
      ]
    },
    {
      "cell_type": "markdown",
      "metadata": {
        "id": "x-MlGmBB6GXG"
      },
      "source": [
        "# Global Key "
      ]
    },
    {
      "cell_type": "code",
      "metadata": {
        "colab": {
          "base_uri": "https://localhost:8080/"
        },
        "id": "iwRhKcGv2z0M",
        "outputId": "6adce389-40fe-4444-88d0-71ba18d3c5e9"
      },
      "source": [
        "def Additin():\n",
        "  global a\n",
        "  a=3\n",
        "\n",
        "Additin()\n",
        "print(a)\n"
      ],
      "execution_count": 47,
      "outputs": [
        {
          "output_type": "stream",
          "text": [
            "3\n"
          ],
          "name": "stdout"
        }
      ]
    },
    {
      "cell_type": "code",
      "metadata": {
        "id": "NmzKSMoL6aZO"
      },
      "source": [
        ""
      ],
      "execution_count": null,
      "outputs": []
    }
  ]
}