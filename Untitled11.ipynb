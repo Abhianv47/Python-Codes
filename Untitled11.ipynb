{
  "nbformat": 4,
  "nbformat_minor": 0,
  "metadata": {
    "colab": {
      "name": "Untitled11.ipynb",
      "provenance": [],
      "authorship_tag": "ABX9TyMdCqFbTFjAbJwZnIgZGW2J",
      "include_colab_link": true
    },
    "kernelspec": {
      "name": "python3",
      "display_name": "Python 3"
    },
    "language_info": {
      "name": "python"
    }
  },
  "cells": [
    {
      "cell_type": "markdown",
      "metadata": {
        "id": "view-in-github",
        "colab_type": "text"
      },
      "source": [
        "<a href=\"https://colab.research.google.com/github/Abhianv47/Python-Codes/blob/master/Untitled11.ipynb\" target=\"_parent\"><img src=\"https://colab.research.google.com/assets/colab-badge.svg\" alt=\"Open In Colab\"/></a>"
      ]
    },
    {
      "cell_type": "code",
      "metadata": {
        "id": "hGfoqUUPCUfR"
      },
      "source": [
        ""
      ],
      "execution_count": null,
      "outputs": []
    },
    {
      "cell_type": "markdown",
      "metadata": {
        "id": "sekU_r7zCWPl"
      },
      "source": [
        "# OOPS"
      ]
    },
    {
      "cell_type": "code",
      "metadata": {
        "colab": {
          "base_uri": "https://localhost:8080/"
        },
        "id": "rSBWsb6KCX6y",
        "outputId": "2cfe8ceb-007d-4683-ad01-b351f4ab82ee"
      },
      "source": [
        "class Cars :\n",
        "  door=4\n",
        "  windows=4\n",
        "  colour=\"red\"\n",
        "  def horn(self):\n",
        "    print(\"Horn\")\n",
        "\n",
        "\n",
        "x=Cars()\n",
        "print(x.windows)\n",
        "x.horn()"
      ],
      "execution_count": 35,
      "outputs": [
        {
          "output_type": "stream",
          "text": [
            "4\n",
            "Horn\n"
          ],
          "name": "stdout"
        }
      ]
    },
    {
      "cell_type": "markdown",
      "metadata": {
        "id": "G6dkictWw7UK"
      },
      "source": [
        "# __Init__ function"
      ]
    },
    {
      "cell_type": "code",
      "metadata": {
        "colab": {
          "base_uri": "https://localhost:8080/"
        },
        "id": "iAteFwvECyLt",
        "outputId": "71291fa8-d8c4-47d1-c544-11d79f4d044d"
      },
      "source": [
        "class Cars :\n",
        "  def __init__(self,windows):\n",
        "    self.windows=windows\n",
        "\n",
        "x = Cars(4)\n",
        "print(x.windows)"
      ],
      "execution_count": 19,
      "outputs": [
        {
          "output_type": "stream",
          "text": [
            "4\n"
          ],
          "name": "stdout"
        }
      ]
    },
    {
      "cell_type": "code",
      "metadata": {
        "colab": {
          "base_uri": "https://localhost:8080/"
        },
        "id": "_ZkoQkrafZbY",
        "outputId": "e15fa54b-c9eb-40d7-bdcd-ea259c7a92b5"
      },
      "source": [
        "class Cars :\n",
        "  def __init__(self,windows,doors,colour):\n",
        "    self.windows=windows\n",
        "    self.doors=doors\n",
        "    self.colour=colour\n",
        "  \n",
        "\n",
        "x = Cars(4,4,\"red\")\n",
        "print(x.colour)\n",
        "print(x.windows)\n",
        "print(x.doors)\n",
        "\n",
        "\n"
      ],
      "execution_count": 22,
      "outputs": [
        {
          "output_type": "stream",
          "text": [
            "red\n",
            "4\n",
            "4\n"
          ],
          "name": "stdout"
        }
      ]
    },
    {
      "cell_type": "code",
      "metadata": {
        "colab": {
          "base_uri": "https://localhost:8080/",
          "height": 219
        },
        "id": "bC0TNTWzp0rl",
        "outputId": "51658d59-ff42-4438-eaae-414c4197d4fa"
      },
      "source": [
        "class Cars :\n",
        "  def __init__(self,windows,doors,colour):\n",
        "    self.windows=windows\n",
        "    self.doors=doors\n",
        "    self.colour=colour\n",
        "  \n",
        "\n",
        "x = Cars(4,4,\"red\")\n",
        "print(x.colour)\n",
        "\n",
        "\n",
        "\n",
        "del x         # del key wil delete the x .hence output will be error\n",
        "print(x.colour)\n"
      ],
      "execution_count": 26,
      "outputs": [
        {
          "output_type": "stream",
          "text": [
            "red\n"
          ],
          "name": "stdout"
        },
        {
          "output_type": "error",
          "ename": "NameError",
          "evalue": "ignored",
          "traceback": [
            "\u001b[0;31m---------------------------------------------------------------------------\u001b[0m",
            "\u001b[0;31mNameError\u001b[0m                                 Traceback (most recent call last)",
            "\u001b[0;32m<ipython-input-26-04cdbcefa605>\u001b[0m in \u001b[0;36m<module>\u001b[0;34m()\u001b[0m\n\u001b[1;32m     12\u001b[0m \u001b[0;34m\u001b[0m\u001b[0m\n\u001b[1;32m     13\u001b[0m \u001b[0;32mdel\u001b[0m \u001b[0mx\u001b[0m         \u001b[0;31m# del key wil delete the x .hence output will be error\u001b[0m\u001b[0;34m\u001b[0m\u001b[0;34m\u001b[0m\u001b[0m\n\u001b[0;32m---> 14\u001b[0;31m \u001b[0mprint\u001b[0m\u001b[0;34m(\u001b[0m\u001b[0mx\u001b[0m\u001b[0;34m.\u001b[0m\u001b[0mcolour\u001b[0m\u001b[0;34m)\u001b[0m\u001b[0;34m\u001b[0m\u001b[0;34m\u001b[0m\u001b[0m\n\u001b[0m",
            "\u001b[0;31mNameError\u001b[0m: name 'x' is not defined"
          ]
        }
      ]
    },
    {
      "cell_type": "markdown",
      "metadata": {
        "id": "PXwlXC7Rw18w"
      },
      "source": [
        "# Inheritance"
      ]
    },
    {
      "cell_type": "code",
      "metadata": {
        "colab": {
          "base_uri": "https://localhost:8080/"
        },
        "id": "HErKjFnGqU9t",
        "outputId": "4587694c-68d6-4307-cf2a-58f97aeecf21"
      },
      "source": [
        "class Parent :\n",
        "  name=\"Parent\"           # name and age is the propoerties of the class\n",
        "  age=25\n",
        "\n",
        "\n",
        "  def print(self):       # print is the function\n",
        "    print(\"My nane is \", self.name,\"And my age is \", self.age)\n",
        "\n",
        "\n",
        "class Child(Parent):\n",
        "  pass\n",
        "\n",
        "\n",
        "x = Child()\n",
        "x.print()\n",
        "\n",
        "\n"
      ],
      "execution_count": 38,
      "outputs": [
        {
          "output_type": "stream",
          "text": [
            "My nane is  Parent And my age is  25\n"
          ],
          "name": "stdout"
        }
      ]
    },
    {
      "cell_type": "code",
      "metadata": {
        "colab": {
          "base_uri": "https://localhost:8080/"
        },
        "id": "nHMXcxgUzoQM",
        "outputId": "4ca06f5c-481e-48b3-b96a-a0d28c9486f9"
      },
      "source": [
        " class Parent :\n",
        "   def __init__(self,name,age):\n",
        "     self.name=name\n",
        "     self.age=age\n",
        "\n",
        "   def print(self):\n",
        "     print(\"My nane is \", self.name, \"And my age is \", self.age)\n",
        "\n",
        "\n",
        "class Child(Parent):\n",
        "  pass\n",
        "\n",
        "y = Child(\"Child\",20)\n",
        "y.print()\n"
      ],
      "execution_count": 46,
      "outputs": [
        {
          "output_type": "stream",
          "text": [
            "My nane is  Child And my age is  20\n"
          ],
          "name": "stdout"
        }
      ]
    },
    {
      "cell_type": "code",
      "metadata": {
        "colab": {
          "base_uri": "https://localhost:8080/"
        },
        "id": "QELZM-Hm19Xl",
        "outputId": "1811861d-42e8-4cad-8bd7-a447a6d810c9"
      },
      "source": [
        " class Parent :\n",
        "   def __init__(self,name,age):\n",
        "     self.name=name\n",
        "     self.age=age\n",
        "\n",
        "   def print(self):\n",
        "     print(\"My nane is \", self.name, \"And my age is \", self.age)\n",
        "\n",
        "\n",
        "class Child(Parent):\n",
        "  def __init__(self,name,age,standard):\n",
        "    self.standard=standard\n",
        "    super().__init__(name,age)\n",
        "    \n",
        "  def print(self):\n",
        "     print(\"My nane is \", self.name, \"And my age is \", self.age,\"And standard is\", self.standard)\n",
        "y= Child(\"Abhinav\",25,\"B.tech\")\n",
        "y.print()"
      ],
      "execution_count": 52,
      "outputs": [
        {
          "output_type": "stream",
          "text": [
            "My nane is  Abhinav And my age is  25 And standard is B.tech\n"
          ],
          "name": "stdout"
        }
      ]
    },
    {
      "cell_type": "markdown",
      "metadata": {
        "id": "YWqv3rnMBpNW"
      },
      "source": [
        "#  Iterators"
      ]
    },
    {
      "cell_type": "code",
      "metadata": {
        "id": "E9VChTNb9yXG"
      },
      "source": [
        ""
      ],
      "execution_count": null,
      "outputs": []
    },
    {
      "cell_type": "code",
      "metadata": {
        "id": "2jRmtN5vk7tD"
      },
      "source": [
        ""
      ],
      "execution_count": null,
      "outputs": []
    }
  ]
}