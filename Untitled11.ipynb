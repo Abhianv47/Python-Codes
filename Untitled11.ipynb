{
 "cells": [
  {
   "cell_type": "code",
   "execution_count": 14,
   "metadata": {},
   "outputs": [
    {
     "name": "stdout",
     "output_type": "stream",
     "text": [
      "    *  \n",
      "    *  \n",
      "    *  \n",
      "    *   *   *  \n",
      "    *   *   *  \n",
      "    *   *   *   *   *  \n"
     ]
    }
   ],
   "source": [
    "n = 4\n",
    "for i in range(n):\n",
    "    for j in range(n-i-1):\n",
    "        print(\"  \",end=\" \")\n",
    "        for j in range((2*i+1)):\n",
    "            print(\" *\",end=\"  \" )\n",
    "        print()"
   ]
  },
  {
   "cell_type": "code",
   "execution_count": 50,
   "metadata": {},
   "outputs": [
    {
     "name": "stdout",
     "output_type": "stream",
     "text": [
      "1 1 1 1 \n",
      "\n",
      "2 2 2 2 \n",
      "\n",
      "2 2 2 2 \n",
      "\n",
      "3 3 3 3 \n",
      "\n",
      "3 3 3 3 \n",
      "\n",
      "3 3 3 3 \n",
      "\n",
      "4 4 4 4 \n",
      "\n",
      "4 4 4 4 \n",
      "\n",
      "4 4 4 4 \n",
      "\n",
      "4 4 4 4 \n",
      "\n"
     ]
    }
   ],
   "source": [
    "for n in range(5):\n",
    "    for j in range(n):\n",
    "        for j in range(i+1):\n",
    "            print(n, end=\" \")\n",
    "        print( )\n",
    "        for j in range(n-(i+1)):\n",
    "            print(\" \",end=\" \")\n",
    "        print()"
   ]
  },
  {
   "cell_type": "code",
   "execution_count": 25,
   "metadata": {},
   "outputs": [
    {
     "name": "stdout",
     "output_type": "stream",
     "text": [
      "\n",
      "\n",
      "1 \n",
      "\n",
      "2 2 \n",
      "\n",
      "3 3 3 \n",
      "\n",
      "4 4 4 4 \n",
      "\n",
      "5 5 5 5 5 \n",
      "\n",
      "6 6 6 6 6 6 \n",
      "\n",
      "7 7 7 7 7 7 7 \n",
      "\n",
      "8 8 8 8 8 8 8 8 \n",
      "\n",
      "9 9 9 9 9 9 9 9 9 \n",
      "\n"
     ]
    }
   ],
   "source": [
    "for num in range(10):\n",
    "    for i in range(num):\n",
    "        print (num, end=\" \") #print number\n",
    "    # new line after each row to display pattern correctly\n",
    "    print(\"\\n\")"
   ]
  },
  {
   "cell_type": "code",
   "execution_count": null,
   "metadata": {},
   "outputs": [],
   "source": [
    "for n in range(4):\n",
    "    for i in range(n):\n",
    "        for j in range(1,n):\n",
    "            print(n ,end=\" \")\n",
    "            for j in range(1,n+1):\n",
    "                print()"
   ]
  }
 ],
 "metadata": {
  "kernelspec": {
   "display_name": "Python 3",
   "language": "python",
   "name": "python3"
  },
  "language_info": {
   "codemirror_mode": {
    "name": "ipython",
    "version": 3
   },
   "file_extension": ".py",
   "mimetype": "text/x-python",
   "name": "python",
   "nbconvert_exporter": "python",
   "pygments_lexer": "ipython3",
   "version": "3.7.3"
  }
 },
 "nbformat": 4,
 "nbformat_minor": 2
}
