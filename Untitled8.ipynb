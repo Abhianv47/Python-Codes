{
  "nbformat": 4,
  "nbformat_minor": 0,
  "metadata": {
    "colab": {
      "name": "Untitled8.ipynb",
      "provenance": [],
      "authorship_tag": "ABX9TyNMyI8PhTK3ls94ZL1JsPJc",
      "include_colab_link": true
    },
    "kernelspec": {
      "name": "python3",
      "display_name": "Python 3"
    },
    "language_info": {
      "name": "python"
    }
  },
  "cells": [
    {
      "cell_type": "markdown",
      "metadata": {
        "id": "view-in-github",
        "colab_type": "text"
      },
      "source": [
        "<a href=\"https://colab.research.google.com/github/Abhianv47/Python-Codes/blob/master/Untitled8.ipynb\" target=\"_parent\"><img src=\"https://colab.research.google.com/assets/colab-badge.svg\" alt=\"Open In Colab\"/></a>"
      ]
    },
    {
      "cell_type": "code",
      "metadata": {
        "id": "EqyXYsMqo-fi"
      },
      "source": [
        ""
      ],
      "execution_count": null,
      "outputs": []
    },
    {
      "cell_type": "markdown",
      "metadata": {
        "id": "0eBk5DxXrAbM"
      },
      "source": [
        "# Function Return Value"
      ]
    },
    {
      "cell_type": "code",
      "metadata": {
        "colab": {
          "base_uri": "https://localhost:8080/"
        },
        "id": "6q1dzvpLrEsw",
        "outputId": "78cbd453-f748-4f6e-b1a7-5a2af63d2743"
      },
      "source": [
        "def addition(a,b,c,d):\n",
        "  e=a+b+c+d\n",
        "  return e         #return the value.value will be store in the addition function\n",
        "print(\"The total is =\",)"
      ],
      "execution_count": 7,
      "outputs": [
        {
          "output_type": "stream",
          "text": [
            "The total is =\n"
          ],
          "name": "stdout"
        }
      ]
    },
    {
      "cell_type": "markdown",
      "metadata": {
        "id": "hsfi1N56tECY"
      },
      "source": [
        "# Pass statement in function"
      ]
    },
    {
      "cell_type": "code",
      "metadata": {
        "colab": {
          "base_uri": "https://localhost:8080/"
        },
        "id": "NmvtIE3Lr1qZ",
        "outputId": "c359a448-cf1e-4c98-bcb7-4f178e7714c2"
      },
      "source": [
        "def addition(a,b,c,d):\n",
        "  pass\n",
        "print(\"The total is =\",addition(10,20,30,40))"
      ],
      "execution_count": 9,
      "outputs": [
        {
          "output_type": "stream",
          "text": [
            "The total is = None\n"
          ],
          "name": "stdout"
        }
      ]
    },
    {
      "cell_type": "markdown",
      "metadata": {
        "id": "FXSlE_ZMupOz"
      },
      "source": [
        "# Recursion"
      ]
    },
    {
      "cell_type": "code",
      "metadata": {
        "colab": {
          "base_uri": "https://localhost:8080/"
        },
        "id": "OSbVbsyvtcdL",
        "outputId": "28e9b8de-f016-4985-e516-6f82ac2cbb0e"
      },
      "source": [
        "def abc_recursion(k):\n",
        "  if k > 0:\n",
        "    result = k+abc_recursion(k-1)\n",
        "    return result\n",
        "  else:\n",
        "    result=0\n",
        "    return result\n",
        "print(abc_recursion(3))"
      ],
      "execution_count": 12,
      "outputs": [
        {
          "output_type": "stream",
          "text": [
            "6\n"
          ],
          "name": "stdout"
        }
      ]
    },
    {
      "cell_type": "markdown",
      "metadata": {
        "id": "EosWpzsPyiVs"
      },
      "source": [
        "# Lambda Function"
      ]
    },
    {
      "cell_type": "code",
      "metadata": {
        "colab": {
          "base_uri": "https://localhost:8080/"
        },
        "id": "fOW9rx9cv5QF",
        "outputId": "4a235671-ba97-4355-c1d6-b71102f8ed84"
      },
      "source": [
        "s=lambda a:a*5\n",
        "print(s(6))"
      ],
      "execution_count": 13,
      "outputs": [
        {
          "output_type": "stream",
          "text": [
            "30\n"
          ],
          "name": "stdout"
        }
      ]
    },
    {
      "cell_type": "code",
      "metadata": {
        "colab": {
          "base_uri": "https://localhost:8080/"
        },
        "id": "IMS3rpJBy0ZV",
        "outputId": "6987082e-1ccc-4fce-818a-e85642659a09"
      },
      "source": [
        "s=lambda a,b,c:a*b*c*5\n",
        "print(s(3,2,6))"
      ],
      "execution_count": 15,
      "outputs": [
        {
          "output_type": "stream",
          "text": [
            "180\n"
          ],
          "name": "stdout"
        }
      ]
    },
    {
      "cell_type": "code",
      "metadata": {
        "id": "Kr6eBVRjzfit"
      },
      "source": [
        ""
      ],
      "execution_count": null,
      "outputs": []
    }
  ]
}