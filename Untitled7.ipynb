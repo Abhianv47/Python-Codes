{
  "nbformat": 4,
  "nbformat_minor": 0,
  "metadata": {
    "colab": {
      "name": "Untitled7.ipynb",
      "provenance": [],
      "authorship_tag": "ABX9TyNHX1yaBD9b7ksSaZVd/xfF",
      "include_colab_link": true
    },
    "kernelspec": {
      "name": "python3",
      "display_name": "Python 3"
    },
    "language_info": {
      "name": "python"
    }
  },
  "cells": [
    {
      "cell_type": "markdown",
      "metadata": {
        "id": "view-in-github",
        "colab_type": "text"
      },
      "source": [
        "<a href=\"https://colab.research.google.com/github/Abhianv47/Python-Codes/blob/master/Untitled7.ipynb\" target=\"_parent\"><img src=\"https://colab.research.google.com/assets/colab-badge.svg\" alt=\"Open In Colab\"/></a>"
      ]
    },
    {
      "cell_type": "code",
      "metadata": {
        "id": "M2zQPZfSidSI"
      },
      "source": [
        ""
      ],
      "execution_count": null,
      "outputs": []
    },
    {
      "cell_type": "markdown",
      "metadata": {
        "id": "9lBHEYztig5a"
      },
      "source": [
        "# Print first 10 natural number using while loop"
      ]
    },
    {
      "cell_type": "code",
      "metadata": {
        "colab": {
          "base_uri": "https://localhost:8080/"
        },
        "id": "Z4tRGmuhipTB",
        "outputId": "b14928d4-494b-4c64-9d11-f931f180ab97"
      },
      "source": [
        "i=0\n",
        "while i<=10 :\n",
        "  print(i)\n",
        "  i+=1\n",
        "  "
      ],
      "execution_count": 18,
      "outputs": [
        {
          "output_type": "stream",
          "text": [
            "0\n",
            "1\n",
            "2\n",
            "3\n",
            "4\n",
            "5\n",
            "6\n",
            "7\n",
            "8\n",
            "9\n",
            "10\n"
          ],
          "name": "stdout"
        }
      ]
    },
    {
      "cell_type": "markdown",
      "metadata": {
        "id": "UC-G-nimlQkx"
      },
      "source": [
        "# Print the following pattern\n",
        "1\n",
        "1 2\n",
        "1 2 3\n",
        "1 2 3 4\n",
        "1 2 3 4 **5**"
      ]
    },
    {
      "cell_type": "code",
      "metadata": {
        "colab": {
          "base_uri": "https://localhost:8080/"
        },
        "id": "BTlhtvpbiwyh",
        "outputId": "c3964b40-a32b-4f1b-b10a-13e9335faf9c"
      },
      "source": [
        "i=6\n",
        "j=6\n",
        "for i in range(1,6):\n",
        "  for j in range(1,i+1):\n",
        "    print(j,end=\" \")\n",
        "  print(\"\")\n",
        "\n",
        " \n"
      ],
      "execution_count": 37,
      "outputs": [
        {
          "output_type": "stream",
          "text": [
            "1 \n",
            "1 2 \n",
            "1 2 3 \n",
            "1 2 3 4 \n",
            "1 2 3 4 5 \n"
          ],
          "name": "stdout"
        }
      ]
    },
    {
      "cell_type": "markdown",
      "metadata": {
        "id": "zoKRAMSKoBBE"
      },
      "source": [
        "# Accept number from user and calculate the um of all number from 1 to a given number"
      ]
    },
    {
      "cell_type": "code",
      "metadata": {
        "colab": {
          "base_uri": "https://localhost:8080/"
        },
        "id": "c36f-IXljkyG",
        "outputId": "989a009d-9172-4357-8488-11f02113b023"
      },
      "source": [
        "a=int(input(\"Enter the number=\"))\n",
        "c=0\n",
        "for i in range(1,a+1):\n",
        "  c+=i\n",
        "print(c)"
      ],
      "execution_count": 50,
      "outputs": [
        {
          "output_type": "stream",
          "text": [
            "Enter the number=10\n",
            "55\n"
          ],
          "name": "stdout"
        }
      ]
    },
    {
      "cell_type": "markdown",
      "metadata": {
        "id": "G8hm_JizqqCB"
      },
      "source": [
        "# Print multiplication table of a given number"
      ]
    },
    {
      "cell_type": "code",
      "metadata": {
        "colab": {
          "base_uri": "https://localhost:8080/"
        },
        "id": "cNhKjMdwostz",
        "outputId": "5a97c9eb-be51-458d-d4f1-6dd8c3390653"
      },
      "source": [
        "a=int(input(\"Enter the number= \"))\n",
        "for i in range (1,11):\n",
        "  c=i*a\n",
        "  print(c)"
      ],
      "execution_count": 61,
      "outputs": [
        {
          "output_type": "stream",
          "text": [
            "Enter the number= 5\n",
            "5\n",
            "10\n",
            "15\n",
            "20\n",
            "25\n",
            "30\n",
            "35\n",
            "40\n",
            "45\n",
            "50\n"
          ],
          "name": "stdout"
        }
      ]
    },
    {
      "cell_type": "markdown",
      "metadata": {
        "id": "mdAod0HtsQEa"
      },
      "source": [
        "# Given a list,iterable it,and display numbers divisible by five, and if you find a number greater than 150,stop the loop iteration. L=[12,15,32,42,55,75,122,132,150,180,200]"
      ]
    },
    {
      "cell_type": "code",
      "metadata": {
        "colab": {
          "base_uri": "https://localhost:8080/"
        },
        "id": "tEZUHvlArSfw",
        "outputId": "20c4dc16-b78a-46db-f6c8-2108c85aaa5b"
      },
      "source": [
        "List=[12,15,32,42,55,75,122,132,150,180,200]\n",
        "for i in List:\n",
        "  if(i>150):\n",
        "    break\n",
        "  if (i%5==0):\n",
        "    print(i)"
      ],
      "execution_count": 64,
      "outputs": [
        {
          "output_type": "stream",
          "text": [
            "15\n",
            "55\n",
            "75\n",
            "150\n"
          ],
          "name": "stdout"
        }
      ]
    },
    {
      "cell_type": "markdown",
      "metadata": {
        "id": "hXR6rl9tuCwU"
      },
      "source": [
        "# Given a number count the total number of digits in a number"
      ]
    },
    {
      "cell_type": "code",
      "metadata": {
        "colab": {
          "base_uri": "https://localhost:8080/"
        },
        "id": "Tvs2W1ket5Wp",
        "outputId": "cf49f272-e10b-4f48-f641-7324d163ad65"
      },
      "source": [
        "a=int(input(\"Enter the number = \"))\n",
        "b=0\n",
        "while a!=0 :\n",
        "  a//=10\n",
        "  b+=1\n",
        "print(b)"
      ],
      "execution_count": 75,
      "outputs": [
        {
          "output_type": "stream",
          "text": [
            "Enter the number = 123\n",
            "3\n"
          ],
          "name": "stdout"
        }
      ]
    },
    {
      "cell_type": "markdown",
      "metadata": {
        "id": "9A54dK9Ev_9d"
      },
      "source": [
        "# Print the following pattern using for loop"
      ]
    },
    {
      "cell_type": "code",
      "metadata": {
        "colab": {
          "base_uri": "https://localhost:8080/"
        },
        "id": "jF9SdeXivAq9",
        "outputId": "acaed328-c303-4e84-a320-913f244fd679"
      },
      "source": [
        "i=6\n",
        "b=6\n",
        "for i in range(1,6):\n",
        "  for j in range(b-i,0,-1):\n",
        "   print(j,end=\" \")\n",
        "  print(\" \")\n"
      ],
      "execution_count": 94,
      "outputs": [
        {
          "output_type": "stream",
          "text": [
            "5 4 3 2 1  \n",
            "4 3 2 1  \n",
            "3 2 1  \n",
            "2 1  \n",
            "1  \n"
          ],
          "name": "stdout"
        }
      ]
    },
    {
      "cell_type": "code",
      "metadata": {
        "id": "1ZnuRjp3vQID"
      },
      "source": [
        ""
      ],
      "execution_count": null,
      "outputs": []
    }
  ]
}