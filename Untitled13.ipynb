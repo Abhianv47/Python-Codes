{
  "nbformat": 4,
  "nbformat_minor": 0,
  "metadata": {
    "colab": {
      "name": "Untitled13.ipynb",
      "provenance": [],
      "authorship_tag": "ABX9TyNtdy64ZRDr3LDl+4I/fJNV",
      "include_colab_link": true
    },
    "kernelspec": {
      "name": "python3",
      "display_name": "Python 3"
    },
    "language_info": {
      "name": "python"
    }
  },
  "cells": [
    {
      "cell_type": "markdown",
      "metadata": {
        "id": "view-in-github",
        "colab_type": "text"
      },
      "source": [
        "<a href=\"https://colab.research.google.com/github/Abhianv47/Python-Codes/blob/master/Untitled13.ipynb\" target=\"_parent\"><img src=\"https://colab.research.google.com/assets/colab-badge.svg\" alt=\"Open In Colab\"/></a>"
      ]
    },
    {
      "cell_type": "code",
      "metadata": {
        "colab": {
          "base_uri": "https://localhost:8080/"
        },
        "id": "Aaat26aTjYHl",
        "outputId": "04d25e17-3d4a-4f06-bdd4-195bbcc1e6a1"
      },
      "source": [
        "%%writefile Calsi.py\n",
        "Fruits=[\"Apple\",\"Banana\",\"Pineapple\"]\n",
        "\n",
        "def Multiplication(a,b):\n",
        "  c=a*b\n",
        "  print(\"Multiplication of two number is = \" ,c)\n",
        "\n",
        "\n",
        "Multiplication(5,6)\n",
        "print(Fruits)\n",
        "print(Fruits[0])\n",
        "from Calsi import Multiplication\n",
        "Multiplication(3,2)\n"
      ],
      "execution_count": 25,
      "outputs": [
        {
          "output_type": "stream",
          "text": [
            "Overwriting Calsi.py\n"
          ],
          "name": "stdout"
        }
      ]
    },
    {
      "cell_type": "code",
      "metadata": {
        "colab": {
          "base_uri": "https://localhost:8080/"
        },
        "id": "rltpfeSOjyJ9",
        "outputId": "7f3d0531-8099-4e97-b4ea-8ce5b632783c"
      },
      "source": [
        "from google.colab import drive\n",
        "drive.mount('/content/drive')"
      ],
      "execution_count": 26,
      "outputs": [
        {
          "output_type": "stream",
          "text": [
            "Drive already mounted at /content/drive; to attempt to forcibly remount, call drive.mount(\"/content/drive\", force_remount=True).\n"
          ],
          "name": "stdout"
        }
      ]
    },
    {
      "cell_type": "code",
      "metadata": {
        "colab": {
          "base_uri": "https://localhost:8080/"
        },
        "id": "84OvvRqEkDyJ",
        "outputId": "6bdbfa39-4131-4e62-b01b-eec50d784d78"
      },
      "source": [
        "! python '/content/Calsi.py'"
      ],
      "execution_count": 27,
      "outputs": [
        {
          "output_type": "stream",
          "text": [
            "Multiplication of two number is =  30\n",
            "['Apple', 'Banana', 'Pineapple']\n",
            "Apple\n",
            "Multiplication of two number is =  30\n",
            "['Apple', 'Banana', 'Pineapple']\n",
            "Apple\n",
            "Multiplication of two number is =  6\n",
            "Multiplication of two number is =  6\n"
          ],
          "name": "stdout"
        }
      ]
    },
    {
      "cell_type": "code",
      "metadata": {
        "colab": {
          "base_uri": "https://localhost:8080/"
        },
        "id": "ZGV4NTxbkUng",
        "outputId": "2db8c1e7-2851-4d5b-fb2c-0f7983aa297a"
      },
      "source": [
        "import platform\n",
        "x=platform.system()\n",
        "print(x)"
      ],
      "execution_count": 10,
      "outputs": [
        {
          "output_type": "stream",
          "text": [
            "Linux\n"
          ],
          "name": "stdout"
        }
      ]
    },
    {
      "cell_type": "code",
      "metadata": {
        "colab": {
          "base_uri": "https://localhost:8080/"
        },
        "id": "oKFPVh0wnfN0",
        "outputId": "68420b2a-4173-40ce-d950-6b7b96049119"
      },
      "source": [
        "import math\n",
        "x=math.pi\n",
        "print(x)"
      ],
      "execution_count": 11,
      "outputs": [
        {
          "output_type": "stream",
          "text": [
            "3.141592653589793\n"
          ],
          "name": "stdout"
        }
      ]
    },
    {
      "cell_type": "code",
      "metadata": {
        "id": "jtjS0c-qoJPP"
      },
      "source": [
        ""
      ],
      "execution_count": 27,
      "outputs": []
    },
    {
      "cell_type": "code",
      "metadata": {
        "id": "zIBl0yM5omND"
      },
      "source": [
        ""
      ],
      "execution_count": null,
      "outputs": []
    }
  ]
}