{
  "nbformat": 4,
  "nbformat_minor": 0,
  "metadata": {
    "colab": {
      "name": "Untitled9.ipynb",
      "provenance": [],
      "authorship_tag": "ABX9TyPlhuLsK2Y0IQTCAH7xZHeo",
      "include_colab_link": true
    },
    "kernelspec": {
      "name": "python3",
      "display_name": "Python 3"
    },
    "language_info": {
      "name": "python"
    }
  },
  "cells": [
    {
      "cell_type": "markdown",
      "metadata": {
        "id": "view-in-github",
        "colab_type": "text"
      },
      "source": [
        "<a href=\"https://colab.research.google.com/github/Abhianv47/Python-Codes/blob/master/Untitled9.ipynb\" target=\"_parent\"><img src=\"https://colab.research.google.com/assets/colab-badge.svg\" alt=\"Open In Colab\"/></a>"
      ]
    },
    {
      "cell_type": "code",
      "metadata": {
        "id": "fsXC-aCe5Edd"
      },
      "source": [
        ""
      ],
      "execution_count": null,
      "outputs": []
    },
    {
      "cell_type": "markdown",
      "metadata": {
        "id": "GEdUjKCu58dL"
      },
      "source": [
        "# Practice on Loops And Control Statement"
      ]
    },
    {
      "cell_type": "code",
      "metadata": {
        "colab": {
          "base_uri": "https://localhost:8080/"
        },
        "id": "nGYmj5_v6CRx",
        "outputId": "14fc9d0f-32fd-42b7-e35d-45cac4e042c4"
      },
      "source": [
        "for i in range(-10,0):               # Display numbers from -10 to -1 using for loop\n",
        "  print(i)"
      ],
      "execution_count": null,
      "outputs": [
        {
          "output_type": "stream",
          "text": [
            "-10\n",
            "-9\n",
            "-8\n",
            "-7\n",
            "-6\n",
            "-5\n",
            "-4\n",
            "-3\n",
            "-2\n",
            "-1\n"
          ],
          "name": "stdout"
        }
      ]
    },
    {
      "cell_type": "code",
      "metadata": {
        "colab": {
          "base_uri": "https://localhost:8080/"
        },
        "id": "WM4-nPPL6oXH",
        "outputId": "cc9bd140-5517-4405-a7eb-b5db24b2c732"
      },
      "source": [
        "a=10             #Display a message \"Done\" after successful exection of for loop\n",
        "for i in range(a):\n",
        "  print(i)\n",
        "print(\"Done\")"
      ],
      "execution_count": null,
      "outputs": [
        {
          "output_type": "stream",
          "text": [
            "0\n",
            "1\n",
            "2\n",
            "3\n",
            "4\n",
            "5\n",
            "6\n",
            "7\n",
            "8\n",
            "9\n",
            "Done\n"
          ],
          "name": "stdout"
        }
      ]
    },
    {
      "cell_type": "code",
      "metadata": {
        "id": "Tt3v-W1q7MO8",
        "colab": {
          "base_uri": "https://localhost:8080/"
        },
        "outputId": "a88f0667-a3b1-46e9-e0b5-253cbde36d8a"
      },
      "source": [
        "a=int(input(\"Enter the numbers = \"))          #WAP to display all prime numbers with in a range?\n",
        "b=int(input(\"Enter the numbers = \"))\n",
        "for num in range(a,b+1):\n",
        "  if num >1:\n",
        "    for i in range(2,num):\n",
        "      if (num%i)==0:\n",
        "        break\n",
        "    else:\n",
        "          print(num)"
      ],
      "execution_count": 24,
      "outputs": [
        {
          "output_type": "stream",
          "text": [
            "Enter the numbers = 25\n",
            "Enter the numbers = 50\n",
            "29\n",
            "31\n",
            "37\n",
            "41\n",
            "43\n",
            "47\n"
          ],
          "name": "stdout"
        }
      ]
    },
    {
      "cell_type": "markdown",
      "metadata": {
        "id": "KCepE4-3BkYS"
      },
      "source": [
        "# Display fibonacci series up to 10 terms?"
      ]
    },
    {
      "cell_type": "code",
      "metadata": {
        "colab": {
          "base_uri": "https://localhost:8080/"
        },
        "id": "vKrmryI29ubL",
        "outputId": "1e2162dd-8d53-40e8-a82f-88828eb4131a"
      },
      "source": [
        "term=10\n",
        "a=int(input(\"Enter the numbers = \"))\n",
        "b=int(input(\"Enter the numbers = \"))\n",
        "c=0\n",
        "while c < 10 :\n",
        "  print(a,end=\" \")\n",
        "  temp=a+b\n",
        "  a=b\n",
        "  b=temp\n",
        "  c+=1\n",
        "\n"
      ],
      "execution_count": 28,
      "outputs": [
        {
          "output_type": "stream",
          "text": [
            "Enter the numbers = 0\n",
            "Enter the numbers = 1\n",
            "0 1 1 2 3 5 8 13 21 34 "
          ],
          "name": "stdout"
        }
      ]
    },
    {
      "cell_type": "markdown",
      "metadata": {
        "id": "lHyLdxEhPR8n"
      },
      "source": [
        "# Write a loop to find the factorial of any number"
      ]
    },
    {
      "cell_type": "code",
      "metadata": {
        "colab": {
          "base_uri": "https://localhost:8080/"
        },
        "id": "B3YbXN3MDVEg",
        "outputId": "3bdf6df3-1d38-46ee-f9bf-3cec0a0a87ac"
      },
      "source": [
        "a=int(input(\"Enter the number\"))\n",
        "b=1\n",
        "if a < 0 :\n",
        "  print(\"Factorial does not exist\")\n",
        "elif a == 0:\n",
        "  print(\"Factorial of 0 and 1 is 1\")\n",
        "else:\n",
        "      for i in range(1,a+1):\n",
        "        b=b*i\n",
        "print(b)"
      ],
      "execution_count": 39,
      "outputs": [
        {
          "output_type": "stream",
          "text": [
            "Enter the number5\n",
            "120\n"
          ],
          "name": "stdout"
        }
      ]
    },
    {
      "cell_type": "markdown",
      "metadata": {
        "id": "xj730bNXSrWg"
      },
      "source": [
        "# Reverse a given integer number 76542"
      ]
    },
    {
      "cell_type": "code",
      "metadata": {
        "colab": {
          "base_uri": "https://localhost:8080/"
        },
        "id": "b8w9ujY0P69M",
        "outputId": "2a160873-57fe-4464-93e9-64b9aa33df46"
      },
      "source": [
        "a=76542\n",
        "reverce=0\n",
        "while a>0:\n",
        "  reminder=a%10\n",
        "  reverce = (reverce*10)+reminder\n",
        "  a=a//10\n",
        "print(reverce)"
      ],
      "execution_count": 44,
      "outputs": [
        {
          "output_type": "stream",
          "text": [
            "24567\n"
          ],
          "name": "stdout"
        }
      ]
    },
    {
      "cell_type": "markdown",
      "metadata": {
        "id": "0B2u_jmLUQk0"
      },
      "source": [
        "# Use a loop to display elements from a given list that are present at odd index position? List=[10,20,30,40,50,60,70,80,90,100]"
      ]
    },
    {
      "cell_type": "code",
      "metadata": {
        "colab": {
          "base_uri": "https://localhost:8080/"
        },
        "id": "NQBBF6DITkbc",
        "outputId": "bffe115b-e31d-4871-f58d-67823b17ec06"
      },
      "source": [
        "L=[10,20,30,40,50,60,70,80,90,100]\n",
        "for i in  L[1::2]:\n",
        "  print(i,end=\" \")"
      ],
      "execution_count": 46,
      "outputs": [
        {
          "output_type": "stream",
          "text": [
            "20 40 60 80 100 "
          ],
          "name": "stdout"
        }
      ]
    },
    {
      "cell_type": "code",
      "metadata": {
        "id": "GEKGD24kVIbR"
      },
      "source": [
        ""
      ],
      "execution_count": null,
      "outputs": []
    }
  ]
}