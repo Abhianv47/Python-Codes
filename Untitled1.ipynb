{
  "nbformat": 4,
  "nbformat_minor": 0,
  "metadata": {
    "colab": {
      "name": "Untitled1.ipynb",
      "provenance": [],
      "authorship_tag": "ABX9TyN8MNuljd++uXDHJ0Y0TGZ4",
      "include_colab_link": true
    },
    "kernelspec": {
      "name": "python3",
      "display_name": "Python 3"
    },
    "language_info": {
      "name": "python"
    }
  },
  "cells": [
    {
      "cell_type": "markdown",
      "metadata": {
        "id": "view-in-github",
        "colab_type": "text"
      },
      "source": [
        "<a href=\"https://colab.research.google.com/github/Abhianv47/Python-Codes/blob/master/Untitled1.ipynb\" target=\"_parent\"><img src=\"https://colab.research.google.com/assets/colab-badge.svg\" alt=\"Open In Colab\"/></a>"
      ]
    },
    {
      "cell_type": "code",
      "metadata": {
        "colab": {
          "base_uri": "https://localhost:8080/"
        },
        "id": "p2K637EusdCr",
        "outputId": "e814b58b-f469-4e86-c03f-9f4645d8ccaf"
      },
      "source": [
        "y=\"My name is Abhinav\"\n",
        "print(y)\n",
        "print(y[3:7])\n",
        "print(y)\n",
        "print(y[-12:])"
      ],
      "execution_count": 6,
      "outputs": [
        {
          "output_type": "stream",
          "text": [
            "My name is Abhinav\n",
            "name\n",
            "My name is Abhinav\n",
            "e is Abhinav\n"
          ],
          "name": "stdout"
        }
      ]
    },
    {
      "cell_type": "code",
      "metadata": {
        "colab": {
          "base_uri": "https://localhost:8080/"
        },
        "id": "F1LHuqv0uLLb",
        "outputId": "a215ea9e-141c-403b-fa8b-ac52e319ac47"
      },
      "source": [
        "y=\"          My name is\"\n",
        "print(y)\n",
        "print(y.strip())"
      ],
      "execution_count": 7,
      "outputs": [
        {
          "output_type": "stream",
          "text": [
            "          My name is\n",
            "My name is\n"
          ],
          "name": "stdout"
        }
      ]
    },
    {
      "cell_type": "code",
      "metadata": {
        "colab": {
          "base_uri": "https://localhost:8080/"
        },
        "id": "FoAkOsnwzPg_",
        "outputId": "b59c3174-6465-4df7-8865-59aa9d2d8469"
      },
      "source": [
        "y=\"abhsksjaaakndj\"\n",
        "print(y.replace(\"a\",\"x\"))"
      ],
      "execution_count": 8,
      "outputs": [
        {
          "output_type": "stream",
          "text": [
            "xbhsksjxxxkndj\n"
          ],
          "name": "stdout"
        }
      ]
    },
    {
      "cell_type": "code",
      "metadata": {
        "colab": {
          "base_uri": "https://localhost:8080/"
        },
        "id": "POkSksuC0HHW",
        "outputId": "a4d5d8cf-0531-476c-ab5d-4525f2553fc4"
      },
      "source": [
        "y=\"My name, os Abhi,nav.Kumar soni\"\n",
        "print(y.split(\".\"))"
      ],
      "execution_count": 15,
      "outputs": [
        {
          "output_type": "stream",
          "text": [
            "['My name, os Abhi,nav', 'Kumar soni']\n"
          ],
          "name": "stdout"
        }
      ]
    },
    {
      "cell_type": "code",
      "metadata": {
        "colab": {
          "base_uri": "https://localhost:8080/"
        },
        "id": "SCcgLUqd1bUC",
        "outputId": "067cb0ff-a9b3-499a-813c-b6bfbc45d549"
      },
      "source": [
        "x=\"My name is Abhinav\"\n",
        "y=\"I am from Azamgarh\"\n",
        "print(x+\" \"+y)"
      ],
      "execution_count": 18,
      "outputs": [
        {
          "output_type": "stream",
          "text": [
            "My name is Abhinav I am from Azamgarh\n"
          ],
          "name": "stdout"
        }
      ]
    },
    {
      "cell_type": "code",
      "metadata": {
        "colab": {
          "base_uri": "https://localhost:8080/"
        },
        "id": "JcQLu0P32sIP",
        "outputId": "fe39b378-2819-4707-dff0-44b5551b4175"
      },
      "source": [
        "x=26\n",
        "y=\"My nam is {}\"\n",
        "print(y.format(x))"
      ],
      "execution_count": 19,
      "outputs": [
        {
          "output_type": "stream",
          "text": [
            "My nam is 26\n"
          ],
          "name": "stdout"
        }
      ]
    },
    {
      "cell_type": "code",
      "metadata": {
        "colab": {
          "base_uri": "https://localhost:8080/"
        },
        "id": "bgWVwyJY4npc",
        "outputId": "90ae5b6b-50cb-4b19-a42c-3eff71d2175a"
      },
      "source": [
        "a=5\n",
        "b=2\n",
        "c=\"My name is Abhinav .I am {} old.I am in class {}.\"\n",
        "print(c.format(a,b))"
      ],
      "execution_count": 21,
      "outputs": [
        {
          "output_type": "stream",
          "text": [
            "My name is Abhinav .I am 5 old.I am in class 2.\n"
          ],
          "name": "stdout"
        }
      ]
    },
    {
      "cell_type": "code",
      "metadata": {
        "id": "5ICIxArg9yF5"
      },
      "source": [
        ""
      ],
      "execution_count": null,
      "outputs": []
    }
  ]
}