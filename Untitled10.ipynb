{
  "nbformat": 4,
  "nbformat_minor": 0,
  "metadata": {
    "colab": {
      "name": "Untitled10.ipynb",
      "provenance": [],
      "authorship_tag": "ABX9TyNf0/7SplrQXt9T6IWqJsxd",
      "include_colab_link": true
    },
    "kernelspec": {
      "name": "python3",
      "display_name": "Python 3"
    },
    "language_info": {
      "name": "python"
    }
  },
  "cells": [
    {
      "cell_type": "markdown",
      "metadata": {
        "id": "view-in-github",
        "colab_type": "text"
      },
      "source": [
        "<a href=\"https://colab.research.google.com/github/Abhianv47/Python-Codes/blob/master/Untitled10.ipynb\" target=\"_parent\"><img src=\"https://colab.research.google.com/assets/colab-badge.svg\" alt=\"Open In Colab\"/></a>"
      ]
    },
    {
      "cell_type": "code",
      "metadata": {
        "id": "rpYuA1N_veKh"
      },
      "source": [
        ""
      ],
      "execution_count": null,
      "outputs": []
    },
    {
      "cell_type": "markdown",
      "metadata": {
        "id": "GZ79y1-cygoN"
      },
      "source": [
        "# Array"
      ]
    },
    {
      "cell_type": "code",
      "metadata": {
        "colab": {
          "base_uri": "https://localhost:8080/"
        },
        "id": "rDwCQAmjyivn",
        "outputId": "114d416c-ef47-4491-9e64-ff7b311ccba8"
      },
      "source": [
        "fruits=[\"Apple\",\"Banana\",\"Mango\"]\n",
        "print(fruits[0])\n",
        "fruits[1]=\"Lichi\"\n",
        "print(fruits)\n",
        "print(type(fruits))         #array not accepts directr array so list is the way for array\n",
        "print(len(fruits))\n",
        "print(fruits[2])"
      ],
      "execution_count": 8,
      "outputs": [
        {
          "output_type": "stream",
          "text": [
            "Apple\n",
            "['Apple', 'Lichi', 'Mango']\n",
            "<class 'list'>\n",
            "3\n",
            "Mango\n"
          ],
          "name": "stdout"
        }
      ]
    },
    {
      "cell_type": "code",
      "metadata": {
        "colab": {
          "base_uri": "https://localhost:8080/"
        },
        "id": "_eZgRTFLzStS",
        "outputId": "4a5b7327-74fe-4887-fdd7-87d177775e9d"
      },
      "source": [
        "fruits=[\"Apple\",\"Banana\",\"Mango\",\"Watermellon\",\"Pineapple\"]\n",
        "for x in fruits:\n",
        "  print(x)"
      ],
      "execution_count": 12,
      "outputs": [
        {
          "output_type": "stream",
          "text": [
            "Apple\n",
            "Banana\n",
            "Mango\n",
            "Watermellon\n",
            "Pineapple\n"
          ],
          "name": "stdout"
        }
      ]
    },
    {
      "cell_type": "code",
      "metadata": {
        "colab": {
          "base_uri": "https://localhost:8080/"
        },
        "id": "ROXWVPWS6Jiv",
        "outputId": "df2f7cda-e8b1-4c5b-dad1-92d0708c412a"
      },
      "source": [
        "fruits=[\"Apple\",\"Banana\",\"Mango\",\"Watermellon\"]\n",
        "fruits.append(\"Peaches\")\n",
        "print(fruits)\n"
      ],
      "execution_count": 14,
      "outputs": [
        {
          "output_type": "stream",
          "text": [
            "['Apple', 'Banana', 'Mango', 'Watermellon', 'Peaches']\n"
          ],
          "name": "stdout"
        }
      ]
    },
    {
      "cell_type": "code",
      "metadata": {
        "colab": {
          "base_uri": "https://localhost:8080/"
        },
        "id": "5DXe6U0W6wNW",
        "outputId": "11b3f537-c566-42e3-9131-e9f46f9c8ba9"
      },
      "source": [
        "fruits=[\"Apple\",\"Banana\",\"Mango\",\"Watermellon\",\"Pineapple\"]\n",
        "fruits.pop(1)\n",
        "print(fruits)"
      ],
      "execution_count": 16,
      "outputs": [
        {
          "output_type": "stream",
          "text": [
            "['Apple', 'Mango', 'Watermellon', 'Pineapple']\n"
          ],
          "name": "stdout"
        }
      ]
    },
    {
      "cell_type": "code",
      "metadata": {
        "colab": {
          "base_uri": "https://localhost:8080/"
        },
        "id": "4B-HeahN7g9y",
        "outputId": "0f501f77-3a55-40f1-9e8e-1b95d7cafacc"
      },
      "source": [
        "fruits=[\"Apple\",\"Banana\",\"Mango\",\"Watermellon\",\"Pineapple\"]\n",
        "fruits.remove(\"Mango\")\n",
        "print(fruits)"
      ],
      "execution_count": 18,
      "outputs": [
        {
          "output_type": "stream",
          "text": [
            "['Apple', 'Banana', 'Watermellon', 'Pineapple']\n"
          ],
          "name": "stdout"
        }
      ]
    },
    {
      "cell_type": "markdown",
      "metadata": {
        "id": "T5xN4J2fEQ_q"
      },
      "source": [
        "#  Object Oriented Programming"
      ]
    },
    {
      "cell_type": "code",
      "metadata": {
        "colab": {
          "base_uri": "https://localhost:8080/"
        },
        "id": "TtzeJ0qC8Ca1",
        "outputId": "d0f01ca1-e974-4e2a-d33a-5a8eb665972c"
      },
      "source": [
        "class Cars :\n",
        "  windows = 4\n",
        "  doors = 4\n",
        "  colour = \"red\"\n",
        "\n",
        "\n",
        "  def horn():\n",
        "    print(\"Horn\")\n",
        "\n",
        "\n",
        "x = Cars()\n",
        "print(x.windows)\n",
        "print(x.colour)\n",
        "\n"
      ],
      "execution_count": 34,
      "outputs": [
        {
          "output_type": "stream",
          "text": [
            "4\n",
            "red\n"
          ],
          "name": "stdout"
        }
      ]
    },
    {
      "cell_type": "code",
      "metadata": {
        "id": "muVKwIYEHW8A"
      },
      "source": [
        ""
      ],
      "execution_count": null,
      "outputs": []
    }
  ]
}