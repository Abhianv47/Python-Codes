{
 "cells": [
  {
   "cell_type": "code",
   "execution_count": null,
   "metadata": {},
   "outputs": [],
   "source": [
    "num=int(input(\"Enter a number  \"))\n",
    "for d in range(1,num):\n",
    "    if(num/d==d):\n",
    "        print (d)\n",
    "        break  \n",
    "else:\n",
    "    print(\"number is not perfect square\")\n"
   ]
  },
  {
   "cell_type": "code",
   "execution_count": 8,
   "metadata": {},
   "outputs": [
    {
     "name": "stdout",
     "output_type": "stream",
     "text": [
      "Enter A number 56\n",
      "7\n"
     ]
    }
   ],
   "source": [
    "import math\n",
    "num=int(input('Enter A number '))\n",
    "print(int(math.sqrt(num)))"
   ]
  },
  {
   "cell_type": "code",
   "execution_count": null,
   "metadata": {},
   "outputs": [],
   "source": [
    "num=int(input(\"Enter a number  \"))\n",
    "for d in range(1,num):\n",
    "    if(num/d==d):\n",
    "        print (d)\n",
    "        break  \n",
    "else:\n",
    "    print(\"number is not perfect square\")\n"
   ]
  },
  {
   "cell_type": "code",
   "execution_count": null,
   "metadata": {},
   "outputs": [],
   "source": []
  }
 ],
 "metadata": {
  "kernelspec": {
   "display_name": "Python 3",
   "language": "python",
   "name": "python3"
  },
  "language_info": {
   "codemirror_mode": {
    "name": "ipython",
    "version": 3
   },
   "file_extension": ".py",
   "mimetype": "text/x-python",
   "name": "python",
   "nbconvert_exporter": "python",
   "pygments_lexer": "ipython3",
   "version": "3.7.3"
  }
 },
 "nbformat": 4,
 "nbformat_minor": 2
}
