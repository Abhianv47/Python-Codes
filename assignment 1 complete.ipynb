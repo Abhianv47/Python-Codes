{
 "cells": [
  {
   "cell_type": "code",
   "execution_count": 24,
   "metadata": {},
   "outputs": [
    {
     "name": "stdout",
     "output_type": "stream",
     "text": [
      "enter the numbers24\n",
      "2 , 3 , 4 , 6 , 8 , 12 , 24\n"
     ]
    }
   ],
   "source": [
    "n=int(input(\"enter the numbers\"))\n",
    "mul_=n\n",
    "for d in range(2,n):\n",
    "    if n%d==0  :\n",
    "        print(d,end=' , ')\n",
    "print(n)\n"
   ]
  },
  {
   "cell_type": "code",
   "execution_count": 26,
   "metadata": {},
   "outputs": [
    {
     "name": "stdout",
     "output_type": "stream",
     "text": [
      "3 + 5 + 6 + 9 + 10 + 12 + 15 + 18 + 20 + 21 + 24 + 25 + 27 + 30 + 33 + 35 + 36 + 39 + 40 + 42 + 45 + 48 + 50 + 51 + 54 + 55 + 57 + 60 + 63 + 65 + 66 + 69 + 70 + 72 + 75 + 78 + 80 + 81 + 84 + 85 + 87 + 90 + 93 + 95 + 96 + 99 + 100 + 102 + 105 + 108 + 110 + 111 + 114 + 115 + 117 + 120 + 123 + 125 + 126 + 129 + 130 + 132 + 135 + 138 + 140 + 141 + 144 + 145 + 147 + 150 + 153 + 155 + 156 + 159 + 160 + 162 + 165 + 168 + 170 + 171 + 174 + 175 + 177 + 180 + 183 + 185 + 186 + 189 + 190 + 192 + 195 + 198 + 200 + 201 + 204 + 205 + 207 + 210 + 213 + 215 + 216 + 219 + 220 + 222 + 225 + 228 + 230 + 231 + 234 + 235 + 237 + 240 + 243 + 245 + 246 + 249 + 250 + 252 + 255 + 258 + 260 + 261 + 264 + 265 + 267 + 270 + 273 + 275 + 276 + 279 + 280 + 282 + 285 + 288 + 290 + 291 + 294 + 295 + 297 + 300 + 303 + 305 + 306 + 309 + 310 + 312 + 315 + 318 + 320 + 321 + 324 + 325 + 327 + 330 + 333 + 335 + 336 + 339 + 340 + 342 + 345 + 348 + 350 + 351 + 354 + 355 + 357 + 360 + 363 + 365 + 366 + 369 + 370 + 372 + 375 + 378 + 380 + 381 + 384 + 385 + 387 + 390 + 393 + 395 + 396 + 399 + 400 + 402 + 405 + 408 + 410 + 411 + 414 + 415 + 417 + 420 + 423 + 425 + 426 + 429 + 430 + 432 + 435 + 438 + 440 + 441 + 444 + 445 + 447 + 450 + 453 + 455 + 456 + 459 + 460 + 462 + 465 + 468 + 470 + 471 + 474 + 475 + 477 + 480 + 483 + 485 + 486 + 489 + 490 + 492 + 495 + 498 + 500 + 501 + 504 + 505 + 507 + 510 + 513 + 515 + 516 + 519 + 520 + 522 + 525 + 528 + 530 + 531 + 534 + 535 + 537 + 540 + 543 + 545 + 546 + 549 + 550 + 552 + 555 + 558 + 560 + 561 + 564 + 565 + 567 + 570 + 573 + 575 + 576 + 579 + 580 + 582 + 585 + 588 + 590 + 591 + 594 + 595 + 597 + 600 + 603 + 605 + 606 + 609 + 610 + 612 + 615 + 618 + 620 + 621 + 624 + 625 + 627 + 630 + 633 + 635 + 636 + 639 + 640 + 642 + 645 + 648 + 650 + 651 + 654 + 655 + 657 + 660 + 663 + 665 + 666 + 669 + 670 + 672 + 675 + 678 + 680 + 681 + 684 + 685 + 687 + 690 + 693 + 695 + 696 + 699 + 700 + 702 + 705 + 708 + 710 + 711 + 714 + 715 + 717 + 720 + 723 + 725 + 726 + 729 + 730 + 732 + 735 + 738 + 740 + 741 + 744 + 745 + 747 + 750 + 753 + 755 + 756 + 759 + 760 + 762 + 765 + 768 + 770 + 771 + 774 + 775 + 777 + 780 + 783 + 785 + 786 + 789 + 790 + 792 + 795 + 798 + 800 + 801 + 804 + 805 + 807 + 810 + 813 + 815 + 816 + 819 + 820 + 822 + 825 + 828 + 830 + 831 + 834 + 835 + 837 + 840 + 843 + 845 + 846 + 849 + 850 + 852 + 855 + 858 + 860 + 861 + 864 + 865 + 867 + 870 + 873 + 875 + 876 + 879 + 880 + 882 + 885 + 888 + 890 + 891 + 894 + 895 + 897 + 900 + 903 + 905 + 906 + 909 + 910 + 912 + 915 + 918 + 920 + 921 + 924 + 925 + 927 + 930 + 933 + 935 + 936 + 939 + 940 + 942 + 945 + 948 + 950 + 951 + 954 + 955 + 957 + 960 + 963 + 965 + 966 + 969 + 970 + 972 + 975 + 978 + 980 + 981 + 984 + 985 + 987 + 990 + 993 + 995 + 996 + 999 +  = 233168\n"
     ]
    }
   ],
   "source": [
    "n=1000\n",
    "sum_=0\n",
    "for i in range(1,n):\n",
    "    if i%3==0 or i%5==0:\n",
    "        print(i,end=' + ')\n",
    "        sum_+=i\n",
    "print(\" =\", sum_)"
   ]
  },
  {
   "cell_type": "code",
   "execution_count": 27,
   "metadata": {},
   "outputs": [
    {
     "name": "stdout",
     "output_type": "stream",
     "text": [
      "Enter the number13\n",
      "3 + 5 + 6 + 9 + 10 + 12 +  = 45\n"
     ]
    }
   ],
   "source": [
    "n=int(input(\"Enter the number\"))\n",
    "sum_=0\n",
    "for i in range(1,n+1):\n",
    "    if i%3==0 or i%5==0:\n",
    "        print(i,end=' + ')\n",
    "        sum_+=i\n",
    "print(\" =\", sum_)\n"
   ]
  },
  {
   "cell_type": "code",
   "execution_count": 28,
   "metadata": {},
   "outputs": [
    {
     "name": "stdout",
     "output_type": "stream",
     "text": [
      "Enter the numbers3\n",
      "True\n"
     ]
    }
   ],
   "source": [
    "a=int(input(\"Enter the numbers\"))\n",
    "if(a%2!=0):\n",
    "    print(\"True\")\n",
    "else:\n",
    "    print(\"False\")"
   ]
  },
  {
   "cell_type": "code",
   "execution_count": 29,
   "metadata": {},
   "outputs": [
    {
     "name": "stdout",
     "output_type": "stream",
     "text": [
      "Enter the numbers5648\n",
      "4\n"
     ]
    }
   ],
   "source": [
    "g=(input(\"Enter the numbers\"))\n",
    "print(len(g))"
   ]
  },
  {
   "cell_type": "code",
   "execution_count": 31,
   "metadata": {},
   "outputs": [
    {
     "name": "stdout",
     "output_type": "stream",
     "text": [
      "Enter A5\n",
      "Enter B-4\n",
      "Enter C-2\n",
      "Roots are: 1.1483314773547881 -0.34833147735478825\n"
     ]
    }
   ],
   "source": [
    "import math\n",
    "a=float(input(\"Enter A\"))\n",
    "b=float(input(\"Enter B\"))\n",
    "c=float(input(\"Enter C\"))\n",
    "d=((b*b)-(4*a*c))\n",
    "r1=((-b)+math.sqrt(d))/(2*a)\n",
    "r2=((-b)-math.sqrt(d))/(2*a)\n",
    "print(\"Roots are:\" ,r1  ,r2)"
   ]
  },
  {
   "cell_type": "code",
   "execution_count": 32,
   "metadata": {},
   "outputs": [
    {
     "name": "stdout",
     "output_type": "stream",
     "text": [
      "Even numbers are [2, 4, 6, 8, 10, 12, 14, 16, 18, 20, 22, 24, 26, 28, 30, 32, 34, 36, 38, 40, 42, 44, 46, 48, 50, 52, 54, 56, 58, 60, 62, 64, 66, 68, 70, 72, 74, 76, 78, 80, 82, 84, 86, 88, 90, 92, 94, 96, 98, 100]\n",
      "Odd numbers are [1, 3, 5, 7, 9, 11, 13, 15, 17, 19, 21, 23, 25, 27, 29, 31, 33, 35, 37, 39, 41, 43, 45, 47, 49, 51, 53, 55, 57, 59, 61, 63, 65, 67, 69, 71, 73, 75, 77, 79, 81, 83, 85, 87, 89, 91, 93, 95, 97, 99]\n"
     ]
    }
   ],
   "source": [
    "d=1\n",
    "a=[]\n",
    "b=[]\n",
    "while(d<=100):\n",
    "    if(d%2==0):\n",
    "        a.append(d)\n",
    "    else:\n",
    "        b.append(d)\n",
    "    d+=1\n",
    "print(\"Even numbers are\"  ,a)\n",
    "print(\"Odd numbers are\"   ,b)"
   ]
  },
  {
   "cell_type": "code",
   "execution_count": 33,
   "metadata": {},
   "outputs": [
    {
     "name": "stdout",
     "output_type": "stream",
     "text": [
      "Enter the numbers13\n",
      "2\n",
      "3\n",
      "4\n",
      "5\n",
      "7\n",
      "11\n",
      "13\n"
     ]
    }
   ],
   "source": [
    "n=int(input('Enter the numbers'))\n",
    "for d in range(2,n+1):\n",
    "    flag=0\n",
    "    for j in range(2,d//2):\n",
    "        if(d%j==0):\n",
    "            flag=1\n",
    "            break\n",
    "    if flag==0:\n",
    "        print(d)"
   ]
  },
  {
   "cell_type": "code",
   "execution_count": 35,
   "metadata": {},
   "outputs": [
    {
     "name": "stdout",
     "output_type": "stream",
     "text": [
      "Enter the numbers12\n",
      "Enter the numbers24\n",
      "2*2*3*3*4*4*6*6*8*"
     ]
    }
   ],
   "source": [
    "A=(int(input(\"Enter the numbers\")))\n",
    "B=(int(input(\"Enter the numbers\")))\n",
    "for d in range(2,A):\n",
    "    if(A%d==0):\n",
    "        print(d, end=\"*\")\n",
    "    if(B%d==0):\n",
    "        print(d,end=\"*\")\n",
    "        \n",
    "        "
   ]
  },
  {
   "cell_type": "code",
   "execution_count": 58,
   "metadata": {},
   "outputs": [
    {
     "name": "stdout",
     "output_type": "stream",
     "text": [
      "5040\n"
     ]
    }
   ],
   "source": [
    "def fac(a):    \n",
    "    if a==0 or a==1:                \n",
    "        return 1\n",
    "    else:\n",
    "        return a * fac(a-1)         \n",
    "print(fac(7))"
   ]
  },
  {
   "cell_type": "code",
   "execution_count": null,
   "metadata": {},
   "outputs": [],
   "source": []
  }
 ],
 "metadata": {
  "kernelspec": {
   "display_name": "Python 3",
   "language": "python",
   "name": "python3"
  },
  "language_info": {
   "codemirror_mode": {
    "name": "ipython",
    "version": 3
   },
   "file_extension": ".py",
   "mimetype": "text/x-python",
   "name": "python",
   "nbconvert_exporter": "python",
   "pygments_lexer": "ipython3",
   "version": "3.7.3"
  }
 },
 "nbformat": 4,
 "nbformat_minor": 2
}
